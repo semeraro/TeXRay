{
 "cells": [
  {
   "cell_type": "markdown",
   "metadata": {},
   "source": [
    "# Working with images in python\n",
    "\n",
    "## array to image to file\n",
    "\n",
    "Create an image as a set of rgb values in an numpy array, convert it to pil image and write a png. First explore \n",
    "the image arrary data structure. To do that we read an image into an PIL image and then convert it to an ndarray. Then we can explore the data layout. Later we build an array and convert it to an image with PIL. Then display that image to see if the pixels end up where we think they will. \n"
   ]
  },
  {
   "cell_type": "code",
   "execution_count": 12,
   "metadata": {},
   "outputs": [],
   "source": [
    "#import stuff and read the image\n",
    "import numpy as np\n",
    "from PIL import Image, ImageOps\n",
    "import os\n",
    "import matplotlib.pyplot as plt\n",
    "%matplotlib inline\n",
    "imagefile = os.path.join(os.path.expanduser(\"~\"),\"Desktop\\lenna.png\")\n",
    "im = Image.open(imagefile)"
   ]
  },
  {
   "cell_type": "code",
   "execution_count": 13,
   "metadata": {},
   "outputs": [
    {
     "data": {
      "text/plain": [
       "(512, 512, 3)"
      ]
     },
     "execution_count": 13,
     "metadata": {},
     "output_type": "execute_result"
    }
   ],
   "source": [
    "type(im)\n",
    "imarray = np.array(im)\n",
    "imarray.shape"
   ]
  },
  {
   "cell_type": "markdown",
   "metadata": {},
   "source": [
    "The dimensions of our image array are shown above. It looks like the standard \"C\" ordering has the pixel rgb values stored as an array of triples by row. The first pixel is:"
   ]
  },
  {
   "cell_type": "code",
   "execution_count": 14,
   "metadata": {},
   "outputs": [
    {
     "data": {
      "text/plain": [
       "array([226, 137, 125], dtype=uint8)"
      ]
     },
     "execution_count": 14,
     "metadata": {},
     "output_type": "execute_result"
    }
   ],
   "source": [
    "imarray[0,0]"
   ]
  },
  {
   "cell_type": "markdown",
   "metadata": {},
   "source": [
    "The first three pixels in the top row are:"
   ]
  },
  {
   "cell_type": "code",
   "execution_count": 15,
   "metadata": {},
   "outputs": [
    {
     "data": {
      "text/plain": [
       "array([[226, 137, 125],\n",
       "       [226, 137, 125],\n",
       "       [223, 137, 133]], dtype=uint8)"
      ]
     },
     "execution_count": 15,
     "metadata": {},
     "output_type": "execute_result"
    }
   ],
   "source": [
    "imarray[0,0:3]"
   ]
  },
  {
   "cell_type": "markdown",
   "metadata": {},
   "source": [
    "Build an array and morph it into an image. This bit of code builds a 200 by 100 (wxh) image by creating an array of integers 0 < x < 255. It does that by scaling the r,g, and b values linearly with the width and height of the image. Red is scaled from left to right, green is scaled from top to bottom and blue is constant at 0.2 times 255. In order to insure the scaling is correct the calculations are done in floating point and then converted to int by chopping off the remainder. Thus value = float(i)/float(nx)X255.9; 0 <= i <= nx gives i/nx between 0 and 1.0. This leads to 0 <= value <= 255.9. Which gives the correct integer value. Note that the array must be dtype = np.uint8. Using np.int8 is wrong because it is a signed value that goes from -127 - 127.\n",
    "\n",
    "we need to take care of how the image data is set up. The data is loaded in \"C\" order or by rows rather than columns. This means for an image that has a width of nx and height of ny we have to create a numpy array with the shape (height,width,colors). This means the rgb values will be contiguous in memory. pixels will be contiguous in the nx direction followed by ny. See the code below for loading index math. Also note that for the image data the zeroth row of the data is displayed at the top of the image. Graphics convention is the origin of the image is at the bottom left corner of the data. This has to be corrected for when loading the array to ensure the image isnt upside down. this could be accomplished when traversing and loading the array or one could use an image transform after the fact.  Again see below for the first method."
   ]
  },
  {
   "cell_type": "code",
   "execution_count": 4,
   "metadata": {},
   "outputs": [],
   "source": [
    "nx=200\n",
    "ny=100\n",
    "testimagearray = np.zeros((ny,nx,3),dtype=np.uint8)\n",
    "b = int(255.9*0.0)\n",
    "maxj = np.arange(ny)[-1]\n",
    "for j in np.arange(ny):\n",
    "    g = int(255.9*float(maxj - j)/float(ny)) #flip the y axis. \n",
    "    for i in np.arange(nx):\n",
    "        r = int(255.9*float(i)/float(nx))\n",
    "        testimagearray[j,i] = [r,g,b]"
   ]
  },
  {
   "cell_type": "code",
   "execution_count": 5,
   "metadata": {},
   "outputs": [
    {
     "data": {
      "text/plain": [
       "<matplotlib.image.AxesImage at 0xb4fb2888d0>"
      ]
     },
     "execution_count": 5,
     "metadata": {},
     "output_type": "execute_result"
    },
    {
     "data": {
      "image/png": "[encoded data removed]",
      "text/plain": [
       "<Figure size 432x288 with 1 Axes>"
      ]
     },
     "metadata": {
      "needs_background": "light"
     },
     "output_type": "display_data"
    }
   ],
   "source": [
    "#explore the array\n",
    "newimage = Image.fromarray(testimagearray)\n",
    "plt.imshow(newimage)"
   ]
  },
  {
   "cell_type": "code",
   "execution_count": 6,
   "metadata": {},
   "outputs": [
    {
     "data": {
      "text/plain": [
       "<matplotlib.image.AxesImage at 0xb4fb436c88>"
      ]
     },
     "execution_count": 6,
     "metadata": {},
     "output_type": "execute_result"
    },
    {
     "data": {
      "image/png": "[encoded data removed]",
      "text/plain": [
       "<Figure size 432x288 with 1 Axes>"
      ]
     },
     "metadata": {
      "needs_background": "light"
     },
     "output_type": "display_data"
    }
   ],
   "source": [
    "#lets make another test image and flip it using pil rather than programatically\n",
    "testimagearray2 = np.zeros((ny,nx,3),dtype=np.uint8)\n",
    "b = int(255.9*0.0)\n",
    "for j in np.arange(ny):\n",
    "    g = int(255.9*float( j)/float(ny))  \n",
    "    for i in np.arange(nx):\n",
    "        r = int(255.9*float(i)/float(nx))\n",
    "        testimagearray2[j,i] = [r,g,b]\n",
    "# now flip and display\n",
    "newimage2 = Image.fromarray(testimagearray2)\n",
    "plt.imshow(ImageOps.flip(newimage2))"
   ]
  },
  {
   "cell_type": "markdown",
   "metadata": {},
   "source": [
    "Now we want to save the image to a file. Again using pil module. "
   ]
  },
  {
   "cell_type": "code",
   "execution_count": 16,
   "metadata": {},
   "outputs": [],
   "source": [
    "# save the first newimage\n",
    "newimage.save(\"..\\Images\\colorblah.png\",\"PNG\")"
   ]
  },
  {
   "cell_type": "code",
   "execution_count": null,
   "metadata": {},
   "outputs": [],
   "source": []
  }
 ],
 "metadata": {
  "kernelspec": {
   "display_name": "Python 3",
   "language": "python",
   "name": "python3"
  },
  "language_info": {
   "codemirror_mode": {
    "name": "ipython",
    "version": 3
   },
   "file_extension": ".py",
   "mimetype": "text/x-python",
   "name": "python",
   "nbconvert_exporter": "python",
   "pygments_lexer": "ipython3",
   "version": "3.7.3"
  }
 },
 "nbformat": 4,
 "nbformat_minor": 4
}
