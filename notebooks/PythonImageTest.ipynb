{
 "cells": [
  {
   "cell_type": "markdown",
   "metadata": {},
   "source": [
    "# Working with images in python\n",
    "\n",
    "## array to image to file\n",
    "\n",
    "Create an image as a set of rgb values in an numpy array, convert it to pil image and write a png. First explore \n",
    "the image arrary data structure. To do that we read an image into an PIL image and then convert it to an ndarray. Then we can explore the data layout. Later we build an array and convert it to an image with PIL. Then display that image to see if the pixels end up where we think they will. \n"
   ]
  },
  {
   "cell_type": "code",
   "execution_count": 1,
   "metadata": {},
   "outputs": [
    {
     "output_type": "error",
     "ename": "FileNotFoundError",
     "evalue": "[Errno 2] No such file or directory: 'C:\\\\Users\\\\Dave Semeraro\\\\Desktop\\\\lenna.png'",
     "traceback": [
      "\u001b[1;31m---------------------------------------------------------------------------\u001b[0m",
      "\u001b[1;31mFileNotFoundError\u001b[0m                         Traceback (most recent call last)",
      "\u001b[1;32m<ipython-input-1-2a133648d069>\u001b[0m in \u001b[0;36m<module>\u001b[1;34m\u001b[0m\n\u001b[0;32m      6\u001b[0m \u001b[0mget_ipython\u001b[0m\u001b[1;33m(\u001b[0m\u001b[1;33m)\u001b[0m\u001b[1;33m.\u001b[0m\u001b[0mrun_line_magic\u001b[0m\u001b[1;33m(\u001b[0m\u001b[1;34m'matplotlib'\u001b[0m\u001b[1;33m,\u001b[0m \u001b[1;34m'inline'\u001b[0m\u001b[1;33m)\u001b[0m\u001b[1;33m\u001b[0m\u001b[1;33m\u001b[0m\u001b[0m\n\u001b[0;32m      7\u001b[0m \u001b[0mimagefile\u001b[0m \u001b[1;33m=\u001b[0m \u001b[0mos\u001b[0m\u001b[1;33m.\u001b[0m\u001b[0mpath\u001b[0m\u001b[1;33m.\u001b[0m\u001b[0mjoin\u001b[0m\u001b[1;33m(\u001b[0m\u001b[0mos\u001b[0m\u001b[1;33m.\u001b[0m\u001b[0mpath\u001b[0m\u001b[1;33m.\u001b[0m\u001b[0mexpanduser\u001b[0m\u001b[1;33m(\u001b[0m\u001b[1;34m\"~\"\u001b[0m\u001b[1;33m)\u001b[0m\u001b[1;33m,\u001b[0m\u001b[1;34m\"Desktop\\lenna.png\"\u001b[0m\u001b[1;33m)\u001b[0m\u001b[1;33m\u001b[0m\u001b[1;33m\u001b[0m\u001b[0m\n\u001b[1;32m----> 8\u001b[1;33m \u001b[0mim\u001b[0m \u001b[1;33m=\u001b[0m \u001b[0mImage\u001b[0m\u001b[1;33m.\u001b[0m\u001b[0mopen\u001b[0m\u001b[1;33m(\u001b[0m\u001b[0mimagefile\u001b[0m\u001b[1;33m)\u001b[0m\u001b[1;33m\u001b[0m\u001b[1;33m\u001b[0m\u001b[0m\n\u001b[0m",
      "\u001b[1;32mC:\\ProgramData\\Anaconda3\\lib\\site-packages\\PIL\\Image.py\u001b[0m in \u001b[0;36mopen\u001b[1;34m(fp, mode)\u001b[0m\n\u001b[0;32m   2841\u001b[0m \u001b[1;33m\u001b[0m\u001b[0m\n\u001b[0;32m   2842\u001b[0m     \u001b[1;32mif\u001b[0m \u001b[0mfilename\u001b[0m\u001b[1;33m:\u001b[0m\u001b[1;33m\u001b[0m\u001b[1;33m\u001b[0m\u001b[0m\n\u001b[1;32m-> 2843\u001b[1;33m         \u001b[0mfp\u001b[0m \u001b[1;33m=\u001b[0m \u001b[0mbuiltins\u001b[0m\u001b[1;33m.\u001b[0m\u001b[0mopen\u001b[0m\u001b[1;33m(\u001b[0m\u001b[0mfilename\u001b[0m\u001b[1;33m,\u001b[0m \u001b[1;34m\"rb\"\u001b[0m\u001b[1;33m)\u001b[0m\u001b[1;33m\u001b[0m\u001b[1;33m\u001b[0m\u001b[0m\n\u001b[0m\u001b[0;32m   2844\u001b[0m         \u001b[0mexclusive_fp\u001b[0m \u001b[1;33m=\u001b[0m \u001b[1;32mTrue\u001b[0m\u001b[1;33m\u001b[0m\u001b[1;33m\u001b[0m\u001b[0m\n\u001b[0;32m   2845\u001b[0m \u001b[1;33m\u001b[0m\u001b[0m\n",
      "\u001b[1;31mFileNotFoundError\u001b[0m: [Errno 2] No such file or directory: 'C:\\\\Users\\\\Dave Semeraro\\\\Desktop\\\\lenna.png'"
     ]
    }
   ],
   "source": [
    "#import stuff and read the image\n",
    "import numpy as np\n",
    "from PIL import Image, ImageOps\n",
    "import os\n",
    "import matplotlib.pyplot as plt\n",
    "%matplotlib inline\n",
    "imagefile = os.path.join(os.path.expanduser(\"~\"),\"Desktop\\lenna.png\")\n",
    "im = Image.open(imagefile)"
   ]
  },
  {
   "cell_type": "code",
   "execution_count": 3,
   "metadata": {},
   "outputs": [
    {
     "output_type": "execute_result",
     "data": {
      "text/plain": "(512, 512, 3)"
     },
     "metadata": {},
     "execution_count": 3
    }
   ],
   "source": [
    "type(im)\n",
    "imarray = np.array(im)\n",
    "imarray.shape"
   ]
  },
  {
   "cell_type": "markdown",
   "metadata": {},
   "source": [
    "The dimensions of our image array are shown above. It looks like the standard \"C\" ordering has the pixel rgb values stored as an array of triples by row. The first pixel is:"
   ]
  },
  {
   "cell_type": "code",
   "execution_count": 4,
   "metadata": {},
   "outputs": [
    {
     "output_type": "execute_result",
     "data": {
      "text/plain": "array([226, 137, 125], dtype=uint8)"
     },
     "metadata": {},
     "execution_count": 4
    }
   ],
   "source": [
    "imarray[0,0]"
   ]
  },
  {
   "cell_type": "markdown",
   "metadata": {},
   "source": [
    "The first three pixels in the top row are:"
   ]
  },
  {
   "cell_type": "code",
   "execution_count": 5,
   "metadata": {},
   "outputs": [
    {
     "output_type": "execute_result",
     "data": {
      "text/plain": "array([[226, 137, 125],\n       [226, 137, 125],\n       [223, 137, 133]], dtype=uint8)"
     },
     "metadata": {},
     "execution_count": 5
    }
   ],
   "source": [
    "imarray[0,0:3]"
   ]
  },
  {
   "cell_type": "markdown",
   "metadata": {},
   "source": [
    "Build an array and morph it into an image. This bit of code builds a 200 by 100 (wxh) image by creating an array of integers 0 < x < 255. It does that by scaling the r,g, and b values linearly with the width and height of the image. Red is scaled from left to right, green is scaled from top to bottom and blue is constant at 0.2 times 255. In order to insure the scaling is correct the calculations are done in floating point and then converted to int by chopping off the remainder. Thus value = float(i)/float(nx)X255.9; 0 <= i <= nx gives i/nx between 0 and 1.0. This leads to 0 <= value <= 255.9. Which gives the correct integer value. Note that the array must be dtype = np.uint8. Using np.int8 is wrong because it is a signed value that goes from -127 - 127.\n",
    "\n",
    "we need to take care of how the image data is set up. The data is loaded in \"C\" order or by rows rather than columns. This means for an image that has a width of nx and height of ny we have to create a numpy array with the shape (height,width,colors). This means the rgb values will be contiguous in memory. pixels will be contiguous in the nx direction followed by ny. See the code below for loading index math. Also note that for the image data the zeroth row of the data is displayed at the top of the image. Graphics convention is the origin of the image is at the bottom left corner of the data. This has to be corrected for when loading the array to ensure the image isnt upside down. this could be accomplished when traversing and loading the array or one could use an image transform after the fact.  Again see below for the first method."
   ]
  },
  {
   "cell_type": "code",
   "execution_count": 6,
   "metadata": {},
   "outputs": [],
   "source": [
    "nx=200\n",
    "ny=100\n",
    "testimagearray = np.zeros((ny,nx,3),dtype=np.uint8)\n",
    "b = int(255.9*0.0)\n",
    "maxj = np.arange(ny)[-1]\n",
    "for j in np.arange(ny):\n",
    "    g = int(255.9*float(maxj - j)/float(ny)) #flip the y axis. \n",
    "    for i in np.arange(nx):\n",
    "        r = int(255.9*float(i)/float(nx))\n",
    "        testimagearray[j,i] = [r,g,b]"
   ]
  },
  {
   "cell_type": "code",
   "execution_count": 9,
   "metadata": {},
   "outputs": [
    {
     "output_type": "execute_result",
     "data": {
      "text/plain": "<matplotlib.image.AxesImage at 0xca0ca17400>"
     },
     "metadata": {},
     "execution_count": 9
    },
    {
     "output_type": "display_data",
     "data": {
      "text/plain": "<Figure size 432x288 with 1 Axes>",
      "image/svg+xml": "<?xml version=\"1.0\" encoding=\"utf-8\" standalone=\"no\"?>\r\n<!DOCTYPE svg PUBLIC \"-//W3C//DTD SVG 1.1//EN\"\r\n  \"http://www.w3.org/Graphics/SVG/1.1/DTD/svg11.dtd\">\r\n<!-- Created with matplotlib (https://matplotlib.org/) -->\r\n<svg height=\"201.440344pt\" version=\"1.1\" viewBox=\"0 0 368.925 201.440344\" width=\"368.925pt\" xmlns=\"http://www.w3.org/2000/svg\" xmlns:xlink=\"http://www.w3.org/1999/xlink\">\r\n <defs>\r\n  <style type=\"text/css\">\r\n*{stroke-linecap:butt;stroke-linejoin:round;}\r\n  </style>\r\n </defs>\r\n <g id=\"figure_1\">\r\n  <g id=\"patch_1\">\r\n   <path d=\"M -0 201.440344 \r\nL 368.925 201.440344 \r\nL 368.925 0 \r\nL -0 0 \r\nz\r\n\" style=\"fill:none;\"/>\r\n  </g>\r\n  <g id=\"axes_1\">\r\n   <g id=\"patch_2\">\r\n    <path d=\"M 26.925 177.562219 \r\nL 361.725 177.562219 \r\nL 361.725 10.162219 \r\nL 26.925 10.162219 \r\nz\r\n\" style=\"fill:#ffffff;\"/>\r\n   </g>\r\n   <g clip-path=\"url(#p37e080db8f)\">\r\n    <image height=\"168\" id=\"image1337376567\" transform=\"scale(1 -1)translate(0 -168)\" width=\"335\" x=\"26.925\" xlink:href=\"data:image/png;base64,\r\niVBORw0KGgoAAAANSUhEUgAAAU8AAACoCAYAAABg+2x8AAAABHNCSVQICAgIfAhkiAAAArVJREFUeJzt2cuq2wAQRMGRrf//ZXtjgxdeSGehB1RBCCiQK0JoukfLzLxmZpbPr/n5/fHn2fJ5vuXZ79+z5dnWP7vSex7xc+/ynkf83Lu85xH/l898z6v9+5zxnt9nAOywik+A/dZ5nv0KAPejdwIEZjtAIDoBAjdPgMBsBwhEJ0BgtgMEmidA4OYJEJjtAIHeCRBongCB5gkQ+GAEEJjtAIHeCRCY7QCB6AQI3DwBAs0TIHDzBAjMdoBA7wQIzHaAQHQCBG6eAIHwBAjMdoDAByOAQHQCBG6eAIHZDhCIToDAbAcINE+AwM0TIDDbAQK9EyAw2wEC0QkQuHkCBMITIDDbAQIfjAAC0QkQuHkCBGY7QCA6AQKzHSDQPAECN0+AwGwHCPROgEDzBAg0T4DAByOAwGwHCPROgMBsBwhEJ0Dg5gkQaJ4AgZsnQGC2AwR6J0BgtgMEohMgcPMECIQnQGC2AwQ+GAEEohMgcPMECMx2gEB0AgRmO0CgeQIEbp4AgdkOEOidAIHZDhCIToDAzRMgEJ4AgdkOEPhgBBCIToDAzRMgMNsBAtEJEJjtAIHmCRC4eQIEZjtAoHcCBGY7QCA6AQI3T4BAeAIEZjtA4IMRQCA6AQI3T4BA8wQI3DwBArMdINA7AQKzHSAQnQCBmydAIDwBArMdIPDBCCAQnQCBmydAYLYDBKITIDDbAQLNEyBw8wQIzHaAQO8ECMx2gEB0AgRungCB8AQIzHaAwAcjgEB0AgRungCB2Q4QiE6AwGwHCDRPgMDNEyAw2wECvRMgMNsBAtEJELh5AgTCEyAw2wECH4wAAtEJELh5AgSaJ0Dg5gkQmO0Agd4JEJjtAIHoBAjcPAECsx0gEJ0AgdkOEGieAIHmCRD4YAQQiE6AwGwHCDRPgMDNEyAw2wECvRMgeAPo+gUQAd/euAAAAABJRU5ErkJggg==\" y=\"-9.562219\"/>\r\n   </g>\r\n   <g id=\"matplotlib.axis_1\">\r\n    <g id=\"xtick_1\">\r\n     <g id=\"line2d_1\">\r\n      <defs>\r\n       <path d=\"M 0 0 \r\nL 0 3.5 \r\n\" id=\"m6495151d64\" style=\"stroke:#000000;stroke-width:0.8;\"/>\r\n      </defs>\r\n      <g>\r\n       <use style=\"stroke:#000000;stroke-width:0.8;\" x=\"27.762\" xlink:href=\"#m6495151d64\" y=\"177.562219\"/>\r\n      </g>\r\n     </g>\r\n     <g id=\"text_1\">\r\n      <!-- 0 -->\r\n      <defs>\r\n       <path d=\"M 31.78125 66.40625 \r\nQ 24.171875 66.40625 20.328125 58.90625 \r\nQ 16.5 51.421875 16.5 36.375 \r\nQ 16.5 21.390625 20.328125 13.890625 \r\nQ 24.171875 6.390625 31.78125 6.390625 \r\nQ 39.453125 6.390625 43.28125 13.890625 \r\nQ 47.125 21.390625 47.125 36.375 \r\nQ 47.125 51.421875 43.28125 58.90625 \r\nQ 39.453125 66.40625 31.78125 66.40625 \r\nz\r\nM 31.78125 74.21875 \r\nQ 44.046875 74.21875 50.515625 64.515625 \r\nQ 56.984375 54.828125 56.984375 36.375 \r\nQ 56.984375 17.96875 50.515625 8.265625 \r\nQ 44.046875 -1.421875 31.78125 -1.421875 \r\nQ 19.53125 -1.421875 13.0625 8.265625 \r\nQ 6.59375 17.96875 6.59375 36.375 \r\nQ 6.59375 54.828125 13.0625 64.515625 \r\nQ 19.53125 74.21875 31.78125 74.21875 \r\nz\r\n\" id=\"DejaVuSans-48\"/>\r\n      </defs>\r\n      <g transform=\"translate(24.58075 192.160656)scale(0.1 -0.1)\">\r\n       <use xlink:href=\"#DejaVuSans-48\"/>\r\n      </g>\r\n     </g>\r\n    </g>\r\n    <g id=\"xtick_2\">\r\n     <g id=\"line2d_2\">\r\n      <g>\r\n       <use style=\"stroke:#000000;stroke-width:0.8;\" x=\"69.612\" xlink:href=\"#m6495151d64\" y=\"177.562219\"/>\r\n      </g>\r\n     </g>\r\n     <g id=\"text_2\">\r\n      <!-- 25 -->\r\n      <defs>\r\n       <path d=\"M 19.1875 8.296875 \r\nL 53.609375 8.296875 \r\nL 53.609375 0 \r\nL 7.328125 0 \r\nL 7.328125 8.296875 \r\nQ 12.9375 14.109375 22.625 23.890625 \r\nQ 32.328125 33.6875 34.8125 36.53125 \r\nQ 39.546875 41.84375 41.421875 45.53125 \r\nQ 43.3125 49.21875 43.3125 52.78125 \r\nQ 43.3125 58.59375 39.234375 62.25 \r\nQ 35.15625 65.921875 28.609375 65.921875 \r\nQ 23.96875 65.921875 18.8125 64.3125 \r\nQ 13.671875 62.703125 7.8125 59.421875 \r\nL 7.8125 69.390625 \r\nQ 13.765625 71.78125 18.9375 73 \r\nQ 24.125 74.21875 28.421875 74.21875 \r\nQ 39.75 74.21875 46.484375 68.546875 \r\nQ 53.21875 62.890625 53.21875 53.421875 \r\nQ 53.21875 48.921875 51.53125 44.890625 \r\nQ 49.859375 40.875 45.40625 35.40625 \r\nQ 44.1875 33.984375 37.640625 27.21875 \r\nQ 31.109375 20.453125 19.1875 8.296875 \r\nz\r\n\" id=\"DejaVuSans-50\"/>\r\n       <path d=\"M 10.796875 72.90625 \r\nL 49.515625 72.90625 \r\nL 49.515625 64.59375 \r\nL 19.828125 64.59375 \r\nL 19.828125 46.734375 \r\nQ 21.96875 47.46875 24.109375 47.828125 \r\nQ 26.265625 48.1875 28.421875 48.1875 \r\nQ 40.625 48.1875 47.75 41.5 \r\nQ 54.890625 34.8125 54.890625 23.390625 \r\nQ 54.890625 11.625 47.5625 5.09375 \r\nQ 40.234375 -1.421875 26.90625 -1.421875 \r\nQ 22.3125 -1.421875 17.546875 -0.640625 \r\nQ 12.796875 0.140625 7.71875 1.703125 \r\nL 7.71875 11.625 \r\nQ 12.109375 9.234375 16.796875 8.0625 \r\nQ 21.484375 6.890625 26.703125 6.890625 \r\nQ 35.15625 6.890625 40.078125 11.328125 \r\nQ 45.015625 15.765625 45.015625 23.390625 \r\nQ 45.015625 31 40.078125 35.4375 \r\nQ 35.15625 39.890625 26.703125 39.890625 \r\nQ 22.75 39.890625 18.8125 39.015625 \r\nQ 14.890625 38.140625 10.796875 36.28125 \r\nz\r\n\" id=\"DejaVuSans-53\"/>\r\n      </defs>\r\n      <g transform=\"translate(63.2495 192.160656)scale(0.1 -0.1)\">\r\n       <use xlink:href=\"#DejaVuSans-50\"/>\r\n       <use x=\"63.623047\" xlink:href=\"#DejaVuSans-53\"/>\r\n      </g>\r\n     </g>\r\n    </g>\r\n    <g id=\"xtick_3\">\r\n     <g id=\"line2d_3\">\r\n      <g>\r\n       <use style=\"stroke:#000000;stroke-width:0.8;\" x=\"111.462\" xlink:href=\"#m6495151d64\" y=\"177.562219\"/>\r\n      </g>\r\n     </g>\r\n     <g id=\"text_3\">\r\n      <!-- 50 -->\r\n      <g transform=\"translate(105.0995 192.160656)scale(0.1 -0.1)\">\r\n       <use xlink:href=\"#DejaVuSans-53\"/>\r\n       <use x=\"63.623047\" xlink:href=\"#DejaVuSans-48\"/>\r\n      </g>\r\n     </g>\r\n    </g>\r\n    <g id=\"xtick_4\">\r\n     <g id=\"line2d_4\">\r\n      <g>\r\n       <use style=\"stroke:#000000;stroke-width:0.8;\" x=\"153.312\" xlink:href=\"#m6495151d64\" y=\"177.562219\"/>\r\n      </g>\r\n     </g>\r\n     <g id=\"text_4\">\r\n      <!-- 75 -->\r\n      <defs>\r\n       <path d=\"M 8.203125 72.90625 \r\nL 55.078125 72.90625 \r\nL 55.078125 68.703125 \r\nL 28.609375 0 \r\nL 18.3125 0 \r\nL 43.21875 64.59375 \r\nL 8.203125 64.59375 \r\nz\r\n\" id=\"DejaVuSans-55\"/>\r\n      </defs>\r\n      <g transform=\"translate(146.9495 192.160656)scale(0.1 -0.1)\">\r\n       <use xlink:href=\"#DejaVuSans-55\"/>\r\n       <use x=\"63.623047\" xlink:href=\"#DejaVuSans-53\"/>\r\n      </g>\r\n     </g>\r\n    </g>\r\n    <g id=\"xtick_5\">\r\n     <g id=\"line2d_5\">\r\n      <g>\r\n       <use style=\"stroke:#000000;stroke-width:0.8;\" x=\"195.162\" xlink:href=\"#m6495151d64\" y=\"177.562219\"/>\r\n      </g>\r\n     </g>\r\n     <g id=\"text_5\">\r\n      <!-- 100 -->\r\n      <defs>\r\n       <path d=\"M 12.40625 8.296875 \r\nL 28.515625 8.296875 \r\nL 28.515625 63.921875 \r\nL 10.984375 60.40625 \r\nL 10.984375 69.390625 \r\nL 28.421875 72.90625 \r\nL 38.28125 72.90625 \r\nL 38.28125 8.296875 \r\nL 54.390625 8.296875 \r\nL 54.390625 0 \r\nL 12.40625 0 \r\nz\r\n\" id=\"DejaVuSans-49\"/>\r\n      </defs>\r\n      <g transform=\"translate(185.61825 192.160656)scale(0.1 -0.1)\">\r\n       <use xlink:href=\"#DejaVuSans-49\"/>\r\n       <use x=\"63.623047\" xlink:href=\"#DejaVuSans-48\"/>\r\n       <use x=\"127.246094\" xlink:href=\"#DejaVuSans-48\"/>\r\n      </g>\r\n     </g>\r\n    </g>\r\n    <g id=\"xtick_6\">\r\n     <g id=\"line2d_6\">\r\n      <g>\r\n       <use style=\"stroke:#000000;stroke-width:0.8;\" x=\"237.012\" xlink:href=\"#m6495151d64\" y=\"177.562219\"/>\r\n      </g>\r\n     </g>\r\n     <g id=\"text_6\">\r\n      <!-- 125 -->\r\n      <g transform=\"translate(227.46825 192.160656)scale(0.1 -0.1)\">\r\n       <use xlink:href=\"#DejaVuSans-49\"/>\r\n       <use x=\"63.623047\" xlink:href=\"#DejaVuSans-50\"/>\r\n       <use x=\"127.246094\" xlink:href=\"#DejaVuSans-53\"/>\r\n      </g>\r\n     </g>\r\n    </g>\r\n    <g id=\"xtick_7\">\r\n     <g id=\"line2d_7\">\r\n      <g>\r\n       <use style=\"stroke:#000000;stroke-width:0.8;\" x=\"278.862\" xlink:href=\"#m6495151d64\" y=\"177.562219\"/>\r\n      </g>\r\n     </g>\r\n     <g id=\"text_7\">\r\n      <!-- 150 -->\r\n      <g transform=\"translate(269.31825 192.160656)scale(0.1 -0.1)\">\r\n       <use xlink:href=\"#DejaVuSans-49\"/>\r\n       <use x=\"63.623047\" xlink:href=\"#DejaVuSans-53\"/>\r\n       <use x=\"127.246094\" xlink:href=\"#DejaVuSans-48\"/>\r\n      </g>\r\n     </g>\r\n    </g>\r\n    <g id=\"xtick_8\">\r\n     <g id=\"line2d_8\">\r\n      <g>\r\n       <use style=\"stroke:#000000;stroke-width:0.8;\" x=\"320.712\" xlink:href=\"#m6495151d64\" y=\"177.562219\"/>\r\n      </g>\r\n     </g>\r\n     <g id=\"text_8\">\r\n      <!-- 175 -->\r\n      <g transform=\"translate(311.16825 192.160656)scale(0.1 -0.1)\">\r\n       <use xlink:href=\"#DejaVuSans-49\"/>\r\n       <use x=\"63.623047\" xlink:href=\"#DejaVuSans-55\"/>\r\n       <use x=\"127.246094\" xlink:href=\"#DejaVuSans-53\"/>\r\n      </g>\r\n     </g>\r\n    </g>\r\n   </g>\r\n   <g id=\"matplotlib.axis_2\">\r\n    <g id=\"ytick_1\">\r\n     <g id=\"line2d_9\">\r\n      <defs>\r\n       <path d=\"M 0 0 \r\nL -3.5 0 \r\n\" id=\"me493e7c497\" style=\"stroke:#000000;stroke-width:0.8;\"/>\r\n      </defs>\r\n      <g>\r\n       <use style=\"stroke:#000000;stroke-width:0.8;\" x=\"26.925\" xlink:href=\"#me493e7c497\" y=\"10.999219\"/>\r\n      </g>\r\n     </g>\r\n     <g id=\"text_9\">\r\n      <!-- 0 -->\r\n      <g transform=\"translate(13.5625 14.798438)scale(0.1 -0.1)\">\r\n       <use xlink:href=\"#DejaVuSans-48\"/>\r\n      </g>\r\n     </g>\r\n    </g>\r\n    <g id=\"ytick_2\">\r\n     <g id=\"line2d_10\">\r\n      <g>\r\n       <use style=\"stroke:#000000;stroke-width:0.8;\" x=\"26.925\" xlink:href=\"#me493e7c497\" y=\"44.479219\"/>\r\n      </g>\r\n     </g>\r\n     <g id=\"text_10\">\r\n      <!-- 20 -->\r\n      <g transform=\"translate(7.2 48.278437)scale(0.1 -0.1)\">\r\n       <use xlink:href=\"#DejaVuSans-50\"/>\r\n       <use x=\"63.623047\" xlink:href=\"#DejaVuSans-48\"/>\r\n      </g>\r\n     </g>\r\n    </g>\r\n    <g id=\"ytick_3\">\r\n     <g id=\"line2d_11\">\r\n      <g>\r\n       <use style=\"stroke:#000000;stroke-width:0.8;\" x=\"26.925\" xlink:href=\"#me493e7c497\" y=\"77.959219\"/>\r\n      </g>\r\n     </g>\r\n     <g id=\"text_11\">\r\n      <!-- 40 -->\r\n      <defs>\r\n       <path d=\"M 37.796875 64.3125 \r\nL 12.890625 25.390625 \r\nL 37.796875 25.390625 \r\nz\r\nM 35.203125 72.90625 \r\nL 47.609375 72.90625 \r\nL 47.609375 25.390625 \r\nL 58.015625 25.390625 \r\nL 58.015625 17.1875 \r\nL 47.609375 17.1875 \r\nL 47.609375 0 \r\nL 37.796875 0 \r\nL 37.796875 17.1875 \r\nL 4.890625 17.1875 \r\nL 4.890625 26.703125 \r\nz\r\n\" id=\"DejaVuSans-52\"/>\r\n      </defs>\r\n      <g transform=\"translate(7.2 81.758438)scale(0.1 -0.1)\">\r\n       <use xlink:href=\"#DejaVuSans-52\"/>\r\n       <use x=\"63.623047\" xlink:href=\"#DejaVuSans-48\"/>\r\n      </g>\r\n     </g>\r\n    </g>\r\n    <g id=\"ytick_4\">\r\n     <g id=\"line2d_12\">\r\n      <g>\r\n       <use style=\"stroke:#000000;stroke-width:0.8;\" x=\"26.925\" xlink:href=\"#me493e7c497\" y=\"111.439219\"/>\r\n      </g>\r\n     </g>\r\n     <g id=\"text_12\">\r\n      <!-- 60 -->\r\n      <defs>\r\n       <path d=\"M 33.015625 40.375 \r\nQ 26.375 40.375 22.484375 35.828125 \r\nQ 18.609375 31.296875 18.609375 23.390625 \r\nQ 18.609375 15.53125 22.484375 10.953125 \r\nQ 26.375 6.390625 33.015625 6.390625 \r\nQ 39.65625 6.390625 43.53125 10.953125 \r\nQ 47.40625 15.53125 47.40625 23.390625 \r\nQ 47.40625 31.296875 43.53125 35.828125 \r\nQ 39.65625 40.375 33.015625 40.375 \r\nz\r\nM 52.59375 71.296875 \r\nL 52.59375 62.3125 \r\nQ 48.875 64.0625 45.09375 64.984375 \r\nQ 41.3125 65.921875 37.59375 65.921875 \r\nQ 27.828125 65.921875 22.671875 59.328125 \r\nQ 17.53125 52.734375 16.796875 39.40625 \r\nQ 19.671875 43.65625 24.015625 45.921875 \r\nQ 28.375 48.1875 33.59375 48.1875 \r\nQ 44.578125 48.1875 50.953125 41.515625 \r\nQ 57.328125 34.859375 57.328125 23.390625 \r\nQ 57.328125 12.15625 50.6875 5.359375 \r\nQ 44.046875 -1.421875 33.015625 -1.421875 \r\nQ 20.359375 -1.421875 13.671875 8.265625 \r\nQ 6.984375 17.96875 6.984375 36.375 \r\nQ 6.984375 53.65625 15.1875 63.9375 \r\nQ 23.390625 74.21875 37.203125 74.21875 \r\nQ 40.921875 74.21875 44.703125 73.484375 \r\nQ 48.484375 72.75 52.59375 71.296875 \r\nz\r\n\" id=\"DejaVuSans-54\"/>\r\n      </defs>\r\n      <g transform=\"translate(7.2 115.238438)scale(0.1 -0.1)\">\r\n       <use xlink:href=\"#DejaVuSans-54\"/>\r\n       <use x=\"63.623047\" xlink:href=\"#DejaVuSans-48\"/>\r\n      </g>\r\n     </g>\r\n    </g>\r\n    <g id=\"ytick_5\">\r\n     <g id=\"line2d_13\">\r\n      <g>\r\n       <use style=\"stroke:#000000;stroke-width:0.8;\" x=\"26.925\" xlink:href=\"#me493e7c497\" y=\"144.919219\"/>\r\n      </g>\r\n     </g>\r\n     <g id=\"text_13\">\r\n      <!-- 80 -->\r\n      <defs>\r\n       <path d=\"M 31.78125 34.625 \r\nQ 24.75 34.625 20.71875 30.859375 \r\nQ 16.703125 27.09375 16.703125 20.515625 \r\nQ 16.703125 13.921875 20.71875 10.15625 \r\nQ 24.75 6.390625 31.78125 6.390625 \r\nQ 38.8125 6.390625 42.859375 10.171875 \r\nQ 46.921875 13.96875 46.921875 20.515625 \r\nQ 46.921875 27.09375 42.890625 30.859375 \r\nQ 38.875 34.625 31.78125 34.625 \r\nz\r\nM 21.921875 38.8125 \r\nQ 15.578125 40.375 12.03125 44.71875 \r\nQ 8.5 49.078125 8.5 55.328125 \r\nQ 8.5 64.0625 14.71875 69.140625 \r\nQ 20.953125 74.21875 31.78125 74.21875 \r\nQ 42.671875 74.21875 48.875 69.140625 \r\nQ 55.078125 64.0625 55.078125 55.328125 \r\nQ 55.078125 49.078125 51.53125 44.71875 \r\nQ 48 40.375 41.703125 38.8125 \r\nQ 48.828125 37.15625 52.796875 32.3125 \r\nQ 56.78125 27.484375 56.78125 20.515625 \r\nQ 56.78125 9.90625 50.3125 4.234375 \r\nQ 43.84375 -1.421875 31.78125 -1.421875 \r\nQ 19.734375 -1.421875 13.25 4.234375 \r\nQ 6.78125 9.90625 6.78125 20.515625 \r\nQ 6.78125 27.484375 10.78125 32.3125 \r\nQ 14.796875 37.15625 21.921875 38.8125 \r\nz\r\nM 18.3125 54.390625 \r\nQ 18.3125 48.734375 21.84375 45.5625 \r\nQ 25.390625 42.390625 31.78125 42.390625 \r\nQ 38.140625 42.390625 41.71875 45.5625 \r\nQ 45.3125 48.734375 45.3125 54.390625 \r\nQ 45.3125 60.0625 41.71875 63.234375 \r\nQ 38.140625 66.40625 31.78125 66.40625 \r\nQ 25.390625 66.40625 21.84375 63.234375 \r\nQ 18.3125 60.0625 18.3125 54.390625 \r\nz\r\n\" id=\"DejaVuSans-56\"/>\r\n      </defs>\r\n      <g transform=\"translate(7.2 148.718438)scale(0.1 -0.1)\">\r\n       <use xlink:href=\"#DejaVuSans-56\"/>\r\n       <use x=\"63.623047\" xlink:href=\"#DejaVuSans-48\"/>\r\n      </g>\r\n     </g>\r\n    </g>\r\n   </g>\r\n   <g id=\"patch_3\">\r\n    <path d=\"M 26.925 177.562219 \r\nL 26.925 10.162219 \r\n\" style=\"fill:none;stroke:#000000;stroke-linecap:square;stroke-linejoin:miter;stroke-width:0.8;\"/>\r\n   </g>\r\n   <g id=\"patch_4\">\r\n    <path d=\"M 361.725 177.562219 \r\nL 361.725 10.162219 \r\n\" style=\"fill:none;stroke:#000000;stroke-linecap:square;stroke-linejoin:miter;stroke-width:0.8;\"/>\r\n   </g>\r\n   <g id=\"patch_5\">\r\n    <path d=\"M 26.925 177.562219 \r\nL 361.725 177.562219 \r\n\" style=\"fill:none;stroke:#000000;stroke-linecap:square;stroke-linejoin:miter;stroke-width:0.8;\"/>\r\n   </g>\r\n   <g id=\"patch_6\">\r\n    <path d=\"M 26.925 10.162219 \r\nL 361.725 10.162219 \r\n\" style=\"fill:none;stroke:#000000;stroke-linecap:square;stroke-linejoin:miter;stroke-width:0.8;\"/>\r\n   </g>\r\n  </g>\r\n </g>\r\n <defs>\r\n  <clipPath id=\"p37e080db8f\">\r\n   <rect height=\"167.4\" width=\"334.8\" x=\"26.925\" y=\"10.162219\"/>\r\n  </clipPath>\r\n </defs>\r\n</svg>\r\n",
      "image/png": "[encoded data removed]"
     },
     "metadata": {
      "needs_background": "light"
     }
    }
   ],
   "source": [
    "#explore the array\n",
    "newimage = Image.fromarray(testimagearray)\n",
    "plt.imshow(newimage)"
   ]
  },
  {
   "cell_type": "code",
   "execution_count": 7,
   "metadata": {},
   "outputs": [
    {
     "output_type": "execute_result",
     "data": {
      "text/plain": "<matplotlib.image.AxesImage at 0xca0c8a1c18>"
     },
     "metadata": {},
     "execution_count": 7
    },
    {
     "output_type": "display_data",
     "data": {
      "text/plain": "<Figure size 432x288 with 1 Axes>",
      "image/svg+xml": "<?xml version=\"1.0\" encoding=\"utf-8\" standalone=\"no\"?>\r\n<!DOCTYPE svg PUBLIC \"-//W3C//DTD SVG 1.1//EN\"\r\n  \"http://www.w3.org/Graphics/SVG/1.1/DTD/svg11.dtd\">\r\n<!-- Created with matplotlib (https://matplotlib.org/) -->\r\n<svg height=\"201.440344pt\" version=\"1.1\" viewBox=\"0 0 368.925 201.440344\" width=\"368.925pt\" xmlns=\"http://www.w3.org/2000/svg\" xmlns:xlink=\"http://www.w3.org/1999/xlink\">\r\n <defs>\r\n  <style type=\"text/css\">\r\n*{stroke-linecap:butt;stroke-linejoin:round;}\r\n  </style>\r\n </defs>\r\n <g id=\"figure_1\">\r\n  <g id=\"patch_1\">\r\n   <path d=\"M -0 201.440344 \r\nL 368.925 201.440344 \r\nL 368.925 0 \r\nL -0 0 \r\nz\r\n\" style=\"fill:none;\"/>\r\n  </g>\r\n  <g id=\"axes_1\">\r\n   <g id=\"patch_2\">\r\n    <path d=\"M 26.925 177.562219 \r\nL 361.725 177.562219 \r\nL 361.725 10.162219 \r\nL 26.925 10.162219 \r\nz\r\n\" style=\"fill:#ffffff;\"/>\r\n   </g>\r\n   <g clip-path=\"url(#pa5214cf41f)\">\r\n    <image height=\"168\" id=\"image10865764d7\" transform=\"scale(1 -1)translate(0 -168)\" width=\"335\" x=\"26.925\" xlink:href=\"data:image/png;base64,\r\niVBORw0KGgoAAAANSUhEUgAAAU8AAACoCAYAAABg+2x8AAAABHNCSVQICAgIfAhkiAAAArVJREFUeJzt2cuq2wAQRMGRrf//ZXtjgxdeSGehB1RBCCiQK0JoukfLzLxmZpbPr/n5/fHn2fJ5vuXZ79+z5dnWP7vSex7xc+/ynkf83Lu85xH/l898z6v9+5zxnt9nAOywik+A/dZ5nv0KAPejdwIEZjtAIDoBAjdPgMBsBwhEJ0BgtgMEmidA4OYJEJjtAIHeCRBongCB5gkQ+GAEEJjtAIHeCRCY7QCB6AQI3DwBAs0TIHDzBAjMdoBA7wQIzHaAQHQCBG6eAIHwBAjMdoDAByOAQHQCBG6eAIHZDhCIToDAbAcINE+AwM0TIDDbAQK9EyAw2wEC0QkQuHkCBMITIDDbAQIfjAAC0QkQuHkCBGY7QCA6AQKzHSDQPAECN0+AwGwHCPROgEDzBAg0T4DAByOAwGwHCPROgMBsBwhEJ0Dg5gkQaJ4AgZsnQGC2AwR6J0BgtgMEohMgcPMECIQnQGC2AwQ+GAEEohMgcPMECMx2gEB0AgRmO0CgeQIEbp4AgdkOEOidAIHZDhCIToDAzRMgEJ4AgdkOEPhgBBCIToDAzRMgMNsBAtEJEJjtAIHmCRC4eQIEZjtAoHcCBGY7QCA6AQI3T4BAeAIEZjtA4IMRQCA6AQI3T4BA8wQI3DwBArMdINA7AQKzHSAQnQCBmydAIDwBArMdIPDBCCAQnQCBmydAYLYDBKITIDDbAQLNEyBw8wQIzHaAQO8ECMx2gEB0AgRungCB8AQIzHaAwAcjgEB0AgRungCB2Q4QiE6AwGwHCDRPgMDNEyAw2wECvRMgMNsBAtEJELh5AgTCEyAw2wECH4wAAtEJELh5AgSaJ0Dg5gkQmO0Agd4JEJjtAIHoBAjcPAECsx0gEJ0AgdkOEGieAIHmCRD4YAQQiE6AwGwHCDRPgMDNEyAw2wECvRMgeAPo+gUQAd/euAAAAABJRU5ErkJggg==\" y=\"-9.562219\"/>\r\n   </g>\r\n   <g id=\"matplotlib.axis_1\">\r\n    <g id=\"xtick_1\">\r\n     <g id=\"line2d_1\">\r\n      <defs>\r\n       <path d=\"M 0 0 \r\nL 0 3.5 \r\n\" id=\"m7625f855dc\" style=\"stroke:#000000;stroke-width:0.8;\"/>\r\n      </defs>\r\n      <g>\r\n       <use style=\"stroke:#000000;stroke-width:0.8;\" x=\"27.762\" xlink:href=\"#m7625f855dc\" y=\"177.562219\"/>\r\n      </g>\r\n     </g>\r\n     <g id=\"text_1\">\r\n      <!-- 0 -->\r\n      <defs>\r\n       <path d=\"M 31.78125 66.40625 \r\nQ 24.171875 66.40625 20.328125 58.90625 \r\nQ 16.5 51.421875 16.5 36.375 \r\nQ 16.5 21.390625 20.328125 13.890625 \r\nQ 24.171875 6.390625 31.78125 6.390625 \r\nQ 39.453125 6.390625 43.28125 13.890625 \r\nQ 47.125 21.390625 47.125 36.375 \r\nQ 47.125 51.421875 43.28125 58.90625 \r\nQ 39.453125 66.40625 31.78125 66.40625 \r\nz\r\nM 31.78125 74.21875 \r\nQ 44.046875 74.21875 50.515625 64.515625 \r\nQ 56.984375 54.828125 56.984375 36.375 \r\nQ 56.984375 17.96875 50.515625 8.265625 \r\nQ 44.046875 -1.421875 31.78125 -1.421875 \r\nQ 19.53125 -1.421875 13.0625 8.265625 \r\nQ 6.59375 17.96875 6.59375 36.375 \r\nQ 6.59375 54.828125 13.0625 64.515625 \r\nQ 19.53125 74.21875 31.78125 74.21875 \r\nz\r\n\" id=\"DejaVuSans-48\"/>\r\n      </defs>\r\n      <g transform=\"translate(24.58075 192.160656)scale(0.1 -0.1)\">\r\n       <use xlink:href=\"#DejaVuSans-48\"/>\r\n      </g>\r\n     </g>\r\n    </g>\r\n    <g id=\"xtick_2\">\r\n     <g id=\"line2d_2\">\r\n      <g>\r\n       <use style=\"stroke:#000000;stroke-width:0.8;\" x=\"69.612\" xlink:href=\"#m7625f855dc\" y=\"177.562219\"/>\r\n      </g>\r\n     </g>\r\n     <g id=\"text_2\">\r\n      <!-- 25 -->\r\n      <defs>\r\n       <path d=\"M 19.1875 8.296875 \r\nL 53.609375 8.296875 \r\nL 53.609375 0 \r\nL 7.328125 0 \r\nL 7.328125 8.296875 \r\nQ 12.9375 14.109375 22.625 23.890625 \r\nQ 32.328125 33.6875 34.8125 36.53125 \r\nQ 39.546875 41.84375 41.421875 45.53125 \r\nQ 43.3125 49.21875 43.3125 52.78125 \r\nQ 43.3125 58.59375 39.234375 62.25 \r\nQ 35.15625 65.921875 28.609375 65.921875 \r\nQ 23.96875 65.921875 18.8125 64.3125 \r\nQ 13.671875 62.703125 7.8125 59.421875 \r\nL 7.8125 69.390625 \r\nQ 13.765625 71.78125 18.9375 73 \r\nQ 24.125 74.21875 28.421875 74.21875 \r\nQ 39.75 74.21875 46.484375 68.546875 \r\nQ 53.21875 62.890625 53.21875 53.421875 \r\nQ 53.21875 48.921875 51.53125 44.890625 \r\nQ 49.859375 40.875 45.40625 35.40625 \r\nQ 44.1875 33.984375 37.640625 27.21875 \r\nQ 31.109375 20.453125 19.1875 8.296875 \r\nz\r\n\" id=\"DejaVuSans-50\"/>\r\n       <path d=\"M 10.796875 72.90625 \r\nL 49.515625 72.90625 \r\nL 49.515625 64.59375 \r\nL 19.828125 64.59375 \r\nL 19.828125 46.734375 \r\nQ 21.96875 47.46875 24.109375 47.828125 \r\nQ 26.265625 48.1875 28.421875 48.1875 \r\nQ 40.625 48.1875 47.75 41.5 \r\nQ 54.890625 34.8125 54.890625 23.390625 \r\nQ 54.890625 11.625 47.5625 5.09375 \r\nQ 40.234375 -1.421875 26.90625 -1.421875 \r\nQ 22.3125 -1.421875 17.546875 -0.640625 \r\nQ 12.796875 0.140625 7.71875 1.703125 \r\nL 7.71875 11.625 \r\nQ 12.109375 9.234375 16.796875 8.0625 \r\nQ 21.484375 6.890625 26.703125 6.890625 \r\nQ 35.15625 6.890625 40.078125 11.328125 \r\nQ 45.015625 15.765625 45.015625 23.390625 \r\nQ 45.015625 31 40.078125 35.4375 \r\nQ 35.15625 39.890625 26.703125 39.890625 \r\nQ 22.75 39.890625 18.8125 39.015625 \r\nQ 14.890625 38.140625 10.796875 36.28125 \r\nz\r\n\" id=\"DejaVuSans-53\"/>\r\n      </defs>\r\n      <g transform=\"translate(63.2495 192.160656)scale(0.1 -0.1)\">\r\n       <use xlink:href=\"#DejaVuSans-50\"/>\r\n       <use x=\"63.623047\" xlink:href=\"#DejaVuSans-53\"/>\r\n      </g>\r\n     </g>\r\n    </g>\r\n    <g id=\"xtick_3\">\r\n     <g id=\"line2d_3\">\r\n      <g>\r\n       <use style=\"stroke:#000000;stroke-width:0.8;\" x=\"111.462\" xlink:href=\"#m7625f855dc\" y=\"177.562219\"/>\r\n      </g>\r\n     </g>\r\n     <g id=\"text_3\">\r\n      <!-- 50 -->\r\n      <g transform=\"translate(105.0995 192.160656)scale(0.1 -0.1)\">\r\n       <use xlink:href=\"#DejaVuSans-53\"/>\r\n       <use x=\"63.623047\" xlink:href=\"#DejaVuSans-48\"/>\r\n      </g>\r\n     </g>\r\n    </g>\r\n    <g id=\"xtick_4\">\r\n     <g id=\"line2d_4\">\r\n      <g>\r\n       <use style=\"stroke:#000000;stroke-width:0.8;\" x=\"153.312\" xlink:href=\"#m7625f855dc\" y=\"177.562219\"/>\r\n      </g>\r\n     </g>\r\n     <g id=\"text_4\">\r\n      <!-- 75 -->\r\n      <defs>\r\n       <path d=\"M 8.203125 72.90625 \r\nL 55.078125 72.90625 \r\nL 55.078125 68.703125 \r\nL 28.609375 0 \r\nL 18.3125 0 \r\nL 43.21875 64.59375 \r\nL 8.203125 64.59375 \r\nz\r\n\" id=\"DejaVuSans-55\"/>\r\n      </defs>\r\n      <g transform=\"translate(146.9495 192.160656)scale(0.1 -0.1)\">\r\n       <use xlink:href=\"#DejaVuSans-55\"/>\r\n       <use x=\"63.623047\" xlink:href=\"#DejaVuSans-53\"/>\r\n      </g>\r\n     </g>\r\n    </g>\r\n    <g id=\"xtick_5\">\r\n     <g id=\"line2d_5\">\r\n      <g>\r\n       <use style=\"stroke:#000000;stroke-width:0.8;\" x=\"195.162\" xlink:href=\"#m7625f855dc\" y=\"177.562219\"/>\r\n      </g>\r\n     </g>\r\n     <g id=\"text_5\">\r\n      <!-- 100 -->\r\n      <defs>\r\n       <path d=\"M 12.40625 8.296875 \r\nL 28.515625 8.296875 \r\nL 28.515625 63.921875 \r\nL 10.984375 60.40625 \r\nL 10.984375 69.390625 \r\nL 28.421875 72.90625 \r\nL 38.28125 72.90625 \r\nL 38.28125 8.296875 \r\nL 54.390625 8.296875 \r\nL 54.390625 0 \r\nL 12.40625 0 \r\nz\r\n\" id=\"DejaVuSans-49\"/>\r\n      </defs>\r\n      <g transform=\"translate(185.61825 192.160656)scale(0.1 -0.1)\">\r\n       <use xlink:href=\"#DejaVuSans-49\"/>\r\n       <use x=\"63.623047\" xlink:href=\"#DejaVuSans-48\"/>\r\n       <use x=\"127.246094\" xlink:href=\"#DejaVuSans-48\"/>\r\n      </g>\r\n     </g>\r\n    </g>\r\n    <g id=\"xtick_6\">\r\n     <g id=\"line2d_6\">\r\n      <g>\r\n       <use style=\"stroke:#000000;stroke-width:0.8;\" x=\"237.012\" xlink:href=\"#m7625f855dc\" y=\"177.562219\"/>\r\n      </g>\r\n     </g>\r\n     <g id=\"text_6\">\r\n      <!-- 125 -->\r\n      <g transform=\"translate(227.46825 192.160656)scale(0.1 -0.1)\">\r\n       <use xlink:href=\"#DejaVuSans-49\"/>\r\n       <use x=\"63.623047\" xlink:href=\"#DejaVuSans-50\"/>\r\n       <use x=\"127.246094\" xlink:href=\"#DejaVuSans-53\"/>\r\n      </g>\r\n     </g>\r\n    </g>\r\n    <g id=\"xtick_7\">\r\n     <g id=\"line2d_7\">\r\n      <g>\r\n       <use style=\"stroke:#000000;stroke-width:0.8;\" x=\"278.862\" xlink:href=\"#m7625f855dc\" y=\"177.562219\"/>\r\n      </g>\r\n     </g>\r\n     <g id=\"text_7\">\r\n      <!-- 150 -->\r\n      <g transform=\"translate(269.31825 192.160656)scale(0.1 -0.1)\">\r\n       <use xlink:href=\"#DejaVuSans-49\"/>\r\n       <use x=\"63.623047\" xlink:href=\"#DejaVuSans-53\"/>\r\n       <use x=\"127.246094\" xlink:href=\"#DejaVuSans-48\"/>\r\n      </g>\r\n     </g>\r\n    </g>\r\n    <g id=\"xtick_8\">\r\n     <g id=\"line2d_8\">\r\n      <g>\r\n       <use style=\"stroke:#000000;stroke-width:0.8;\" x=\"320.712\" xlink:href=\"#m7625f855dc\" y=\"177.562219\"/>\r\n      </g>\r\n     </g>\r\n     <g id=\"text_8\">\r\n      <!-- 175 -->\r\n      <g transform=\"translate(311.16825 192.160656)scale(0.1 -0.1)\">\r\n       <use xlink:href=\"#DejaVuSans-49\"/>\r\n       <use x=\"63.623047\" xlink:href=\"#DejaVuSans-55\"/>\r\n       <use x=\"127.246094\" xlink:href=\"#DejaVuSans-53\"/>\r\n      </g>\r\n     </g>\r\n    </g>\r\n   </g>\r\n   <g id=\"matplotlib.axis_2\">\r\n    <g id=\"ytick_1\">\r\n     <g id=\"line2d_9\">\r\n      <defs>\r\n       <path d=\"M 0 0 \r\nL -3.5 0 \r\n\" id=\"m9909c43465\" style=\"stroke:#000000;stroke-width:0.8;\"/>\r\n      </defs>\r\n      <g>\r\n       <use style=\"stroke:#000000;stroke-width:0.8;\" x=\"26.925\" xlink:href=\"#m9909c43465\" y=\"10.999219\"/>\r\n      </g>\r\n     </g>\r\n     <g id=\"text_9\">\r\n      <!-- 0 -->\r\n      <g transform=\"translate(13.5625 14.798438)scale(0.1 -0.1)\">\r\n       <use xlink:href=\"#DejaVuSans-48\"/>\r\n      </g>\r\n     </g>\r\n    </g>\r\n    <g id=\"ytick_2\">\r\n     <g id=\"line2d_10\">\r\n      <g>\r\n       <use style=\"stroke:#000000;stroke-width:0.8;\" x=\"26.925\" xlink:href=\"#m9909c43465\" y=\"44.479219\"/>\r\n      </g>\r\n     </g>\r\n     <g id=\"text_10\">\r\n      <!-- 20 -->\r\n      <g transform=\"translate(7.2 48.278437)scale(0.1 -0.1)\">\r\n       <use xlink:href=\"#DejaVuSans-50\"/>\r\n       <use x=\"63.623047\" xlink:href=\"#DejaVuSans-48\"/>\r\n      </g>\r\n     </g>\r\n    </g>\r\n    <g id=\"ytick_3\">\r\n     <g id=\"line2d_11\">\r\n      <g>\r\n       <use style=\"stroke:#000000;stroke-width:0.8;\" x=\"26.925\" xlink:href=\"#m9909c43465\" y=\"77.959219\"/>\r\n      </g>\r\n     </g>\r\n     <g id=\"text_11\">\r\n      <!-- 40 -->\r\n      <defs>\r\n       <path d=\"M 37.796875 64.3125 \r\nL 12.890625 25.390625 \r\nL 37.796875 25.390625 \r\nz\r\nM 35.203125 72.90625 \r\nL 47.609375 72.90625 \r\nL 47.609375 25.390625 \r\nL 58.015625 25.390625 \r\nL 58.015625 17.1875 \r\nL 47.609375 17.1875 \r\nL 47.609375 0 \r\nL 37.796875 0 \r\nL 37.796875 17.1875 \r\nL 4.890625 17.1875 \r\nL 4.890625 26.703125 \r\nz\r\n\" id=\"DejaVuSans-52\"/>\r\n      </defs>\r\n      <g transform=\"translate(7.2 81.758438)scale(0.1 -0.1)\">\r\n       <use xlink:href=\"#DejaVuSans-52\"/>\r\n       <use x=\"63.623047\" xlink:href=\"#DejaVuSans-48\"/>\r\n      </g>\r\n     </g>\r\n    </g>\r\n    <g id=\"ytick_4\">\r\n     <g id=\"line2d_12\">\r\n      <g>\r\n       <use style=\"stroke:#000000;stroke-width:0.8;\" x=\"26.925\" xlink:href=\"#m9909c43465\" y=\"111.439219\"/>\r\n      </g>\r\n     </g>\r\n     <g id=\"text_12\">\r\n      <!-- 60 -->\r\n      <defs>\r\n       <path d=\"M 33.015625 40.375 \r\nQ 26.375 40.375 22.484375 35.828125 \r\nQ 18.609375 31.296875 18.609375 23.390625 \r\nQ 18.609375 15.53125 22.484375 10.953125 \r\nQ 26.375 6.390625 33.015625 6.390625 \r\nQ 39.65625 6.390625 43.53125 10.953125 \r\nQ 47.40625 15.53125 47.40625 23.390625 \r\nQ 47.40625 31.296875 43.53125 35.828125 \r\nQ 39.65625 40.375 33.015625 40.375 \r\nz\r\nM 52.59375 71.296875 \r\nL 52.59375 62.3125 \r\nQ 48.875 64.0625 45.09375 64.984375 \r\nQ 41.3125 65.921875 37.59375 65.921875 \r\nQ 27.828125 65.921875 22.671875 59.328125 \r\nQ 17.53125 52.734375 16.796875 39.40625 \r\nQ 19.671875 43.65625 24.015625 45.921875 \r\nQ 28.375 48.1875 33.59375 48.1875 \r\nQ 44.578125 48.1875 50.953125 41.515625 \r\nQ 57.328125 34.859375 57.328125 23.390625 \r\nQ 57.328125 12.15625 50.6875 5.359375 \r\nQ 44.046875 -1.421875 33.015625 -1.421875 \r\nQ 20.359375 -1.421875 13.671875 8.265625 \r\nQ 6.984375 17.96875 6.984375 36.375 \r\nQ 6.984375 53.65625 15.1875 63.9375 \r\nQ 23.390625 74.21875 37.203125 74.21875 \r\nQ 40.921875 74.21875 44.703125 73.484375 \r\nQ 48.484375 72.75 52.59375 71.296875 \r\nz\r\n\" id=\"DejaVuSans-54\"/>\r\n      </defs>\r\n      <g transform=\"translate(7.2 115.238438)scale(0.1 -0.1)\">\r\n       <use xlink:href=\"#DejaVuSans-54\"/>\r\n       <use x=\"63.623047\" xlink:href=\"#DejaVuSans-48\"/>\r\n      </g>\r\n     </g>\r\n    </g>\r\n    <g id=\"ytick_5\">\r\n     <g id=\"line2d_13\">\r\n      <g>\r\n       <use style=\"stroke:#000000;stroke-width:0.8;\" x=\"26.925\" xlink:href=\"#m9909c43465\" y=\"144.919219\"/>\r\n      </g>\r\n     </g>\r\n     <g id=\"text_13\">\r\n      <!-- 80 -->\r\n      <defs>\r\n       <path d=\"M 31.78125 34.625 \r\nQ 24.75 34.625 20.71875 30.859375 \r\nQ 16.703125 27.09375 16.703125 20.515625 \r\nQ 16.703125 13.921875 20.71875 10.15625 \r\nQ 24.75 6.390625 31.78125 6.390625 \r\nQ 38.8125 6.390625 42.859375 10.171875 \r\nQ 46.921875 13.96875 46.921875 20.515625 \r\nQ 46.921875 27.09375 42.890625 30.859375 \r\nQ 38.875 34.625 31.78125 34.625 \r\nz\r\nM 21.921875 38.8125 \r\nQ 15.578125 40.375 12.03125 44.71875 \r\nQ 8.5 49.078125 8.5 55.328125 \r\nQ 8.5 64.0625 14.71875 69.140625 \r\nQ 20.953125 74.21875 31.78125 74.21875 \r\nQ 42.671875 74.21875 48.875 69.140625 \r\nQ 55.078125 64.0625 55.078125 55.328125 \r\nQ 55.078125 49.078125 51.53125 44.71875 \r\nQ 48 40.375 41.703125 38.8125 \r\nQ 48.828125 37.15625 52.796875 32.3125 \r\nQ 56.78125 27.484375 56.78125 20.515625 \r\nQ 56.78125 9.90625 50.3125 4.234375 \r\nQ 43.84375 -1.421875 31.78125 -1.421875 \r\nQ 19.734375 -1.421875 13.25 4.234375 \r\nQ 6.78125 9.90625 6.78125 20.515625 \r\nQ 6.78125 27.484375 10.78125 32.3125 \r\nQ 14.796875 37.15625 21.921875 38.8125 \r\nz\r\nM 18.3125 54.390625 \r\nQ 18.3125 48.734375 21.84375 45.5625 \r\nQ 25.390625 42.390625 31.78125 42.390625 \r\nQ 38.140625 42.390625 41.71875 45.5625 \r\nQ 45.3125 48.734375 45.3125 54.390625 \r\nQ 45.3125 60.0625 41.71875 63.234375 \r\nQ 38.140625 66.40625 31.78125 66.40625 \r\nQ 25.390625 66.40625 21.84375 63.234375 \r\nQ 18.3125 60.0625 18.3125 54.390625 \r\nz\r\n\" id=\"DejaVuSans-56\"/>\r\n      </defs>\r\n      <g transform=\"translate(7.2 148.718438)scale(0.1 -0.1)\">\r\n       <use xlink:href=\"#DejaVuSans-56\"/>\r\n       <use x=\"63.623047\" xlink:href=\"#DejaVuSans-48\"/>\r\n      </g>\r\n     </g>\r\n    </g>\r\n   </g>\r\n   <g id=\"patch_3\">\r\n    <path d=\"M 26.925 177.562219 \r\nL 26.925 10.162219 \r\n\" style=\"fill:none;stroke:#000000;stroke-linecap:square;stroke-linejoin:miter;stroke-width:0.8;\"/>\r\n   </g>\r\n   <g id=\"patch_4\">\r\n    <path d=\"M 361.725 177.562219 \r\nL 361.725 10.162219 \r\n\" style=\"fill:none;stroke:#000000;stroke-linecap:square;stroke-linejoin:miter;stroke-width:0.8;\"/>\r\n   </g>\r\n   <g id=\"patch_5\">\r\n    <path d=\"M 26.925 177.562219 \r\nL 361.725 177.562219 \r\n\" style=\"fill:none;stroke:#000000;stroke-linecap:square;stroke-linejoin:miter;stroke-width:0.8;\"/>\r\n   </g>\r\n   <g id=\"patch_6\">\r\n    <path d=\"M 26.925 10.162219 \r\nL 361.725 10.162219 \r\n\" style=\"fill:none;stroke:#000000;stroke-linecap:square;stroke-linejoin:miter;stroke-width:0.8;\"/>\r\n   </g>\r\n  </g>\r\n </g>\r\n <defs>\r\n  <clipPath id=\"pa5214cf41f\">\r\n   <rect height=\"167.4\" width=\"334.8\" x=\"26.925\" y=\"10.162219\"/>\r\n  </clipPath>\r\n </defs>\r\n</svg>\r\n",
      "image/png": "[encoded data removed]"
     },
     "metadata": {
      "needs_background": "light"
     }
    }
   ],
   "source": [
    "#lets make another test image and flip it using pil rather than programatically\n",
    "#we should get the same image. \n",
    "testimagearray2 = np.zeros((ny,nx,3),dtype=np.uint8)\n",
    "b = int(255.9*0.0)\n",
    "for j in np.arange(ny):\n",
    "    g = int(255.9*float( j)/float(ny))  \n",
    "    for i in np.arange(nx):\n",
    "        r = int(255.9*float(i)/float(nx))\n",
    "        testimagearray2[j,i] = [r,g,b]\n",
    "# now flip and display\n",
    "newimage2 = Image.fromarray(testimagearray2)\n",
    "plt.imshow(ImageOps.flip(newimage2))"
   ]
  },
  {
   "cell_type": "markdown",
   "metadata": {},
   "source": [
    "Now we want to save the image to a file. Again using pil module. "
   ]
  },
  {
   "cell_type": "code",
   "execution_count": 10,
   "metadata": {},
   "outputs": [],
   "source": [
    "# save the first newimage\n",
    "newimage.save(\"..\\Images\\colorblah.png\",\"PNG\")"
   ]
  },
  {
   "cell_type": "markdown",
   "metadata": {},
   "source": [
    "## Image Pixel order. \n",
    "\n",
    "We see that the image pixel order in PIL is from top left corner to bottom right. That is pixel rows are counted from top to bottom starting with row 0 and going down to row ny-1. The ordering of columns is from left to right starting with column 0 and ending with column nx-1. The memory storage order is 'C' row major order. Pixels are stored by rows starting from the left edge and running to the right edge row by row. The row major storage order has the column index changing fastest. The pixel in row 'p' and column 'q' of a PIL image is indexed as pixel[q,p] The index on the right (row index) changes fastest in C ordering. Numpy arrays use C row major by default. "
   ]
  },
  {
   "cell_type": "code",
   "execution_count": 11,
   "metadata": {},
   "outputs": [
    {
     "output_type": "stream",
     "name": "stdout",
     "text": "r,g,b [  0 253   0] (0, 253, 0)\nr,g,b [254   0   0] (254, 0, 0)\n"
    }
   ],
   "source": [
    "# Get the values of the pixel in the top left corner of the PIL newimage\n",
    "# the top left should be all green.\n",
    "print(f'r,g,b {np.array(newimage)[0,0]} {newimage.getpixel((0,0))}')\n",
    "# the bottim right should be all red\n",
    "print(f'r,g,b {np.array(newimage)[ny-1,nx-1]} {newimage.getpixel((nx-1,ny-1))}')"
   ]
  },
  {
   "cell_type": "markdown",
   "metadata": {},
   "source": [
    "The PIL image object itself cant be indexed but it provides a getpixel method that takes a tuple as an index. The indexing order appears to be reversed from that of the underlying numpy array. That is the x index is first and the y index is second in the PIL.image object. The indexing still goes from top left to bottom right. \n",
    "\n",
    "All of this is a bit much to keep straight in our heads. We want an image that counts from bottom left to top right. Let the i index range from 0 to nx-1 in the x (horizontal) direction and the j index range from 0 to ny-1 in the y or vertical direction. With i=0,j=0 in the bottom left and i=nx-1 j=ny-1 in the top right corner. Then we want to be able to index the image as ImageObject[i,j] and get the right pixel. ie the one i pixels to the right of the left edge and j pixels up from the bottom edge. In order to accomplish this we create our own image class as a wrapper around the PIL library that indexes things as we like.   "
   ]
  },
  {
   "cell_type": "code",
   "execution_count": 12,
   "metadata": {
    "tags": [
     "outputPrepend"
    ]
   },
   "outputs": [
    {
     "output_type": "stream",
     "name": "stdout",
     "text": "ted image must match the size of the region.\n |      \n |      If the modes don't match, the pasted image is converted to the mode of\n |      this image (see the :py:meth:`~PIL.Image.Image.convert` method for\n |      details).\n |      \n |      Instead of an image, the source can be a integer or tuple\n |      containing pixel values.  The method then fills the region\n |      with the given color.  When creating RGB images, you can\n |      also use color strings as supported by the ImageColor module.\n |      \n |      If a mask is given, this method updates only the regions\n |      indicated by the mask.  You can use either \"1\", \"L\" or \"RGBA\"\n |      images (in the latter case, the alpha band is used as mask).\n |      Where the mask is 255, the given image is copied as is.  Where\n |      the mask is 0, the current value is preserved.  Intermediate\n |      values will mix the two images together, including their alpha\n |      channels if they have them.\n |      \n |      See :py:meth:`~PIL.Image.Image.alpha_composite` if you want to\n |      combine images with respect to their alpha channels.\n |      \n |      :param im: Source image or pixel value (integer or tuple).\n |      :param box: An optional 4-tuple giving the region to paste into.\n |         If a 2-tuple is used instead, it's treated as the upper left\n |         corner.  If omitted or None, the source is pasted into the\n |         upper left corner.\n |      \n |         If an image is given as the second argument and there is no\n |         third, the box defaults to (0, 0), and the second argument\n |         is interpreted as a mask image.\n |      :param mask: An optional mask image.\n |  \n |  point(self, lut, mode=None)\n |      Maps this image through a lookup table or function.\n |      \n |      :param lut: A lookup table, containing 256 (or 65536 if\n |         self.mode==\"I\" and mode == \"L\") values per band in the\n |         image.  A function can be used instead, it should take a\n |         single argument. The function is called once for each\n |         possible pixel value, and the resulting table is applied to\n |         all bands of the image.\n |      :param mode: Output mode (default is same as input).  In the\n |         current version, this can only be used if the source image\n |         has mode \"L\" or \"P\", and the output has mode \"1\" or the\n |         source image mode is \"I\" and the output mode is \"L\".\n |      :returns: An :py:class:`~PIL.Image.Image` object.\n |  \n |  putalpha(self, alpha)\n |      Adds or replaces the alpha layer in this image.  If the image\n |      does not have an alpha layer, it's converted to \"LA\" or \"RGBA\".\n |      The new layer must be either \"L\" or \"1\".\n |      \n |      :param alpha: The new alpha layer.  This can either be an \"L\" or \"1\"\n |         image having the same size as this image, or an integer or\n |         other color value.\n |  \n |  putdata(self, data, scale=1.0, offset=0.0)\n |      Copies pixel data to this image.  This method copies data from a\n |      sequence object into the image, starting at the upper left\n |      corner (0, 0), and continuing until either the image or the\n |      sequence ends.  The scale and offset values are used to adjust\n |      the sequence values: **pixel = value*scale + offset**.\n |      \n |      :param data: A sequence object.\n |      :param scale: An optional scale value.  The default is 1.0.\n |      :param offset: An optional offset value.  The default is 0.0.\n |  \n |  putpalette(self, data, rawmode='RGB')\n |      Attaches a palette to this image.  The image must be a \"P\",\n |      \"PA\", \"L\" or \"LA\" image, and the palette sequence must contain\n |      768 integer values, where each group of three values represent\n |      the red, green, and blue values for the corresponding pixel\n |      index. Instead of an integer sequence, you can use an 8-bit\n |      string.\n |      \n |      :param data: A palette sequence (either a list or a string).\n |      :param rawmode: The raw mode of the palette.\n |  \n |  putpixel(self, xy, value)\n |      Modifies the pixel at the given position. The color is given as\n |      a single numerical value for single-band images, and a tuple for\n |      multi-band images. In addition to this, RGB and RGBA tuples are\n |      accepted for P images.\n |      \n |      Note that this method is relatively slow.  For more extensive changes,\n |      use :py:meth:`~PIL.Image.Image.paste` or the :py:mod:`~PIL.ImageDraw`\n |      module instead.\n |      \n |      See:\n |      \n |      * :py:meth:`~PIL.Image.Image.paste`\n |      * :py:meth:`~PIL.Image.Image.putdata`\n |      * :py:mod:`~PIL.ImageDraw`\n |      \n |      :param xy: The pixel coordinate, given as (x, y). See\n |         :ref:`coordinate-system`.\n |      :param value: The pixel value.\n |  \n |  quantize(self, colors=256, method=None, kmeans=0, palette=None, dither=1)\n |      Convert the image to 'P' mode with the specified number\n |      of colors.\n |      \n |      :param colors: The desired number of colors, <= 256\n |      :param method: 0 = median cut\n |                     1 = maximum coverage\n |                     2 = fast octree\n |                     3 = libimagequant\n |      :param kmeans: Integer\n |      :param palette: Quantize to the palette of given\n |                      :py:class:`PIL.Image.Image`.\n |      :param dither: Dithering method, used when converting from\n |         mode \"RGB\" to \"P\" or from \"RGB\" or \"L\" to \"1\".\n |         Available methods are NONE or FLOYDSTEINBERG (default).\n |         Default: 1 (legacy setting)\n |      :returns: A new image\n |  \n |  reduce(self, factor, box=None)\n |      Returns a copy of the image reduced by `factor` times.\n |      If the size of the image is not dividable by the `factor`,\n |      the resulting size will be rounded up.\n |      \n |      :param factor: A greater than 0 integer or tuple of two integers\n |         for width and height separately.\n |      :param box: An optional 4-tuple of ints providing\n |         the source image region to be reduced.\n |         The values must be within (0, 0, width, height) rectangle.\n |         If omitted or None, the entire source is used.\n |  \n |  remap_palette(self, dest_map, source_palette=None)\n |      Rewrites the image to reorder the palette.\n |      \n |      :param dest_map: A list of indexes into the original palette.\n |         e.g. [1,0] would swap a two item palette, and list(range(256))\n |         is the identity transform.\n |      :param source_palette: Bytes or None.\n |      :returns:  An :py:class:`~PIL.Image.Image` object.\n |  \n |  resize(self, size, resample=3, box=None, reducing_gap=None)\n |      Returns a resized copy of this image.\n |      \n |      :param size: The requested size in pixels, as a 2-tuple:\n |         (width, height).\n |      :param resample: An optional resampling filter.  This can be\n |         one of :py:attr:`PIL.Image.NEAREST`, :py:attr:`PIL.Image.BOX`,\n |         :py:attr:`PIL.Image.BILINEAR`, :py:attr:`PIL.Image.HAMMING`,\n |         :py:attr:`PIL.Image.BICUBIC` or :py:attr:`PIL.Image.LANCZOS`.\n |         Default filter is :py:attr:`PIL.Image.BICUBIC`.\n |         If the image has mode \"1\" or \"P\", it is\n |         always set to :py:attr:`PIL.Image.NEAREST`.\n |         See: :ref:`concept-filters`.\n |      :param box: An optional 4-tuple of floats providing\n |         the source image region to be scaled.\n |         The values must be within (0, 0, width, height) rectangle.\n |         If omitted or None, the entire source is used.\n |      :param reducing_gap: Apply optimization by resizing the image\n |         in two steps. First, reducing the image by integer times\n |         using :py:meth:`~PIL.Image.Image.reduce`.\n |         Second, resizing using regular resampling. The last step\n |         changes size no less than by ``reducing_gap`` times.\n |         ``reducing_gap`` may be None (no first step is performed)\n |         or should be greater than 1.0. The bigger ``reducing_gap``,\n |         the closer the result to the fair resampling.\n |         The smaller ``reducing_gap``, the faster resizing.\n |         With ``reducing_gap`` greater or equal to 3.0, the result is\n |         indistinguishable from fair resampling in most cases.\n |         The default value is None (no optimization).\n |      :returns: An :py:class:`~PIL.Image.Image` object.\n |  \n |  rotate(self, angle, resample=0, expand=0, center=None, translate=None, fillcolor=None)\n |      Returns a rotated copy of this image.  This method returns a\n |      copy of this image, rotated the given number of degrees counter\n |      clockwise around its centre.\n |      \n |      :param angle: In degrees counter clockwise.\n |      :param resample: An optional resampling filter.  This can be\n |         one of :py:attr:`PIL.Image.NEAREST` (use nearest neighbour),\n |         :py:attr:`PIL.Image.BILINEAR` (linear interpolation in a 2x2\n |         environment), or :py:attr:`PIL.Image.BICUBIC`\n |         (cubic spline interpolation in a 4x4 environment).\n |         If omitted, or if the image has mode \"1\" or \"P\", it is\n |         set to :py:attr:`PIL.Image.NEAREST`. See :ref:`concept-filters`.\n |      :param expand: Optional expansion flag.  If true, expands the output\n |         image to make it large enough to hold the entire rotated image.\n |         If false or omitted, make the output image the same size as the\n |         input image.  Note that the expand flag assumes rotation around\n |         the center and no translation.\n |      :param center: Optional center of rotation (a 2-tuple).  Origin is\n |         the upper left corner.  Default is the center of the image.\n |      :param translate: An optional post-rotate translation (a 2-tuple).\n |      :param fillcolor: An optional color for area outside the rotated image.\n |      :returns: An :py:class:`~PIL.Image.Image` object.\n |  \n |  save(self, fp, format=None, **params)\n |      Saves this image under the given filename.  If no format is\n |      specified, the format to use is determined from the filename\n |      extension, if possible.\n |      \n |      Keyword options can be used to provide additional instructions\n |      to the writer. If a writer doesn't recognise an option, it is\n |      silently ignored. The available options are described in the\n |      :doc:`image format documentation\n |      <../handbook/image-file-formats>` for each writer.\n |      \n |      You can use a file object instead of a filename. In this case,\n |      you must always specify the format. The file object must\n |      implement the ``seek``, ``tell``, and ``write``\n |      methods, and be opened in binary mode.\n |      \n |      :param fp: A filename (string), pathlib.Path object or file object.\n |      :param format: Optional format override.  If omitted, the\n |         format to use is determined from the filename extension.\n |         If a file object was used instead of a filename, this\n |         parameter should always be used.\n |      :param params: Extra parameters to the image writer.\n |      :returns: None\n |      :exception ValueError: If the output format could not be determined\n |         from the file name.  Use the format option to solve this.\n |      :exception IOError: If the file could not be written.  The file\n |         may have been created, and may contain partial data.\n |  \n |  seek(self, frame)\n |      Seeks to the given frame in this sequence file. If you seek\n |      beyond the end of the sequence, the method raises an\n |      **EOFError** exception. When a sequence file is opened, the\n |      library automatically seeks to frame 0.\n |      \n |      See :py:meth:`~PIL.Image.Image.tell`.\n |      \n |      :param frame: Frame number, starting at 0.\n |      :exception EOFError: If the call attempts to seek beyond the end\n |          of the sequence.\n |  \n |  show(self, title=None, command=None)\n |      Displays this image. This method is mainly intended for\n |      debugging purposes.\n |      \n |      The image is first saved to a temporary file. By default, it will be in\n |      PNG format.\n |      \n |      On Unix, the image is then opened using the **display**, **eog** or\n |      **xv** utility, depending on which one can be found.\n |      \n |      On macOS, the image is opened with the native Preview application.\n |      \n |      On Windows, the image is opened with the standard PNG display utility.\n |      \n |      :param title: Optional title to use for the image window,\n |         where possible.\n |      :param command: command used to show the image\n |  \n |  split(self)\n |      Split this image into individual bands. This method returns a\n |      tuple of individual image bands from an image. For example,\n |      splitting an \"RGB\" image creates three new images each\n |      containing a copy of one of the original bands (red, green,\n |      blue).\n |      \n |      If you need only one band, :py:meth:`~PIL.Image.Image.getchannel`\n |      method can be more convenient and faster.\n |      \n |      :returns: A tuple containing bands.\n |  \n |  tell(self)\n |      Returns the current frame number. See :py:meth:`~PIL.Image.Image.seek`.\n |      \n |      :returns: Frame number, starting with 0.\n |  \n |  thumbnail(self, size, resample=3, reducing_gap=2.0)\n |      Make this image into a thumbnail.  This method modifies the\n |      image to contain a thumbnail version of itself, no larger than\n |      the given size.  This method calculates an appropriate thumbnail\n |      size to preserve the aspect of the image, calls the\n |      :py:meth:`~PIL.Image.Image.draft` method to configure the file reader\n |      (where applicable), and finally resizes the image.\n |      \n |      Note that this function modifies the :py:class:`~PIL.Image.Image`\n |      object in place.  If you need to use the full resolution image as well,\n |      apply this method to a :py:meth:`~PIL.Image.Image.copy` of the original\n |      image.\n |      \n |      :param size: Requested size.\n |      :param resample: Optional resampling filter.  This can be one\n |         of :py:attr:`PIL.Image.NEAREST`, :py:attr:`PIL.Image.BILINEAR`,\n |         :py:attr:`PIL.Image.BICUBIC`, or :py:attr:`PIL.Image.LANCZOS`.\n |         If omitted, it defaults to :py:attr:`PIL.Image.BICUBIC`.\n |         (was :py:attr:`PIL.Image.NEAREST` prior to version 2.5.0).\n |      :param reducing_gap: Apply optimization by resizing the image\n |         in two steps. First, reducing the image by integer times\n |         using :py:meth:`~PIL.Image.Image.reduce` or\n |         :py:meth:`~PIL.Image.Image.draft` for JPEG images.\n |         Second, resizing using regular resampling. The last step\n |         changes size no less than by ``reducing_gap`` times.\n |         ``reducing_gap`` may be None (no first step is performed)\n |         or should be greater than 1.0. The bigger ``reducing_gap``,\n |         the closer the result to the fair resampling.\n |         The smaller ``reducing_gap``, the faster resizing.\n |         With ``reducing_gap`` greater or equal to 3.0, the result is\n |         indistinguishable from fair resampling in most cases.\n |         The default value is 2.0 (very close to fair resampling\n |         while still being faster in many cases).\n |      :returns: None\n |  \n |  tobitmap(self, name='image')\n |      Returns the image converted to an X11 bitmap.\n |      \n |      .. note:: This method only works for mode \"1\" images.\n |      \n |      :param name: The name prefix to use for the bitmap variables.\n |      :returns: A string containing an X11 bitmap.\n |      :raises ValueError: If the mode is not \"1\"\n |  \n |  tobytes(self, encoder_name='raw', *args)\n |      Return image as a bytes object.\n |      \n |      .. warning::\n |      \n |          This method returns the raw image data from the internal\n |          storage.  For compressed image data (e.g. PNG, JPEG) use\n |          :meth:`~.save`, with a BytesIO parameter for in-memory\n |          data.\n |      \n |      :param encoder_name: What encoder to use.  The default is to\n |                           use the standard \"raw\" encoder.\n |      :param args: Extra arguments to the encoder.\n |      :rtype: A bytes object.\n |  \n |  toqimage(self)\n |      Returns a QImage copy of this image\n |  \n |  toqpixmap(self)\n |      Returns a QPixmap copy of this image\n |  \n |  tostring(self, *args, **kw)\n |  \n |  transform(self, size, method, data=None, resample=0, fill=1, fillcolor=None)\n |      Transforms this image.  This method creates a new image with the\n |      given size, and the same mode as the original, and copies data\n |      to the new image using the given transform.\n |      \n |      :param size: The output size.\n |      :param method: The transformation method.  This is one of\n |        :py:attr:`PIL.Image.EXTENT` (cut out a rectangular subregion),\n |        :py:attr:`PIL.Image.AFFINE` (affine transform),\n |        :py:attr:`PIL.Image.PERSPECTIVE` (perspective transform),\n |        :py:attr:`PIL.Image.QUAD` (map a quadrilateral to a rectangle), or\n |        :py:attr:`PIL.Image.MESH` (map a number of source quadrilaterals\n |        in one operation).\n |      \n |        It may also be an :py:class:`~PIL.Image.ImageTransformHandler`\n |        object::\n |      \n |          class Example(Image.ImageTransformHandler):\n |              def transform(size, method, data, resample, fill=1):\n |                  # Return result\n |      \n |        It may also be an object with a :py:meth:`~method.getdata` method\n |        that returns a tuple supplying new **method** and **data** values::\n |      \n |          class Example(object):\n |              def getdata(self):\n |                  method = Image.EXTENT\n |                  data = (0, 0, 100, 100)\n |                  return method, data\n |      :param data: Extra data to the transformation method.\n |      :param resample: Optional resampling filter.  It can be one of\n |         :py:attr:`PIL.Image.NEAREST` (use nearest neighbour),\n |         :py:attr:`PIL.Image.BILINEAR` (linear interpolation in a 2x2\n |         environment), or :py:attr:`PIL.Image.BICUBIC` (cubic spline\n |         interpolation in a 4x4 environment). If omitted, or if the image\n |         has mode \"1\" or \"P\", it is set to :py:attr:`PIL.Image.NEAREST`.\n |      :param fill: If **method** is an\n |        :py:class:`~PIL.Image.ImageTransformHandler` object, this is one of\n |        the arguments passed to it. Otherwise, it is unused.\n |      :param fillcolor: Optional fill color for the area outside the\n |         transform in the output image.\n |      :returns: An :py:class:`~PIL.Image.Image` object.\n |  \n |  transpose(self, method)\n |      Transpose image (flip or rotate in 90 degree steps)\n |      \n |      :param method: One of :py:attr:`PIL.Image.FLIP_LEFT_RIGHT`,\n |        :py:attr:`PIL.Image.FLIP_TOP_BOTTOM`, :py:attr:`PIL.Image.ROTATE_90`,\n |        :py:attr:`PIL.Image.ROTATE_180`, :py:attr:`PIL.Image.ROTATE_270`,\n |        :py:attr:`PIL.Image.TRANSPOSE` or :py:attr:`PIL.Image.TRANSVERSE`.\n |      :returns: Returns a flipped or rotated copy of this image.\n |  \n |  verify(self)\n |      Verifies the contents of a file. For data read from a file, this\n |      method attempts to determine if the file is broken, without\n |      actually decoding the image data.  If this method finds any\n |      problems, it raises suitable exceptions.  If you need to load\n |      the image after using this method, you must reopen the image\n |      file.\n |  \n |  ----------------------------------------------------------------------\n |  Data descriptors defined here:\n |  \n |  __array_interface__\n |  \n |  __dict__\n |      dictionary for instance variables (if defined)\n |  \n |  __weakref__\n |      list of weak references to the object (if defined)\n |  \n |  height\n |  \n |  size\n |  \n |  width\n |  \n |  ----------------------------------------------------------------------\n |  Data and other attributes defined here:\n |  \n |  __hash__ = None\n |  \n |  format = None\n |  \n |  format_description = None\n\n"
    }
   ],
   "source": [
    "help(newimage)"
   ]
  },
  {
   "cell_type": "code",
   "execution_count": 28,
   "metadata": {},
   "outputs": [],
   "source": [
    "import numpy as np\n",
    "class image:\n",
    "    \"\"\"\n",
    "    A numpy based image container. The image resides in a numpy array\n",
    "\n",
    "    \n",
    "    \"\"\"\n",
    "    def __init__(self,height=100,width=200):\n",
    "        self._width = width\n",
    "        self._height = height\n",
    "        self._data = np.zeros((height,width,3),dtype=np.uint8)\n",
    "# fix the indexing so the input y index is reversed\n",
    "# this insures the origin of the image is at the bottom left \n",
    "# index wise. \n",
    "    def __getitem__(self,key):\n",
    "        print(f'length of input tuple {len(key)}')\n",
    "        newkey = self._reverse_height_index(key)\n",
    "        print(f'{key}')\n",
    "        print(f'{newkey}')\n",
    "        return self._data[newkey[0],newkey[1]]\n",
    "        #return self._data[self._height - key[0] -1,key[1],:]\n",
    "    def __setitem__(self,key,value):\n",
    "        self._data[self._height - key[0] -1,key[1]] = value\n",
    "    @property\n",
    "    def width(self):\n",
    "        return self._width\n",
    "    @property\n",
    "    def height(self):\n",
    "        return self._height\n",
    "    def _reverse_height_index(self,key):\n",
    "        # this reverses the height index value\n",
    "        print(key[0].step)\n",
    "        print(('no','yes')[key[0].step is None])\n",
    "        \n",
    "        if isinstance(key[0],slice): # got a slice\n",
    "            start = self._height - key[0].start -1\n",
    "            stop = self._height - key[0].stop -1 \n",
    "            step = (key[0].step,-1)[key[0].step is None]\n",
    "            print(f'{start}, {stop}, {step}')\n",
    "            key0 = slice(start,stop,step)\n",
    "            #key0 = slice(self._height - key[0].start -1,\\\n",
    "            #       self._height - key[0].stop  -1,\\\n",
    "            #       (-(key[0].step),None)[key[0].step is None])\n",
    "        else:\n",
    "            key0 = self._height - key[0] - 1\n",
    "        if len(key) < 3:\n",
    "            return key0,key[1]\n",
    "        else:\n",
    "            return key0,key[1],key[2]"
   ]
  },
  {
   "cell_type": "code",
   "execution_count": 29,
   "metadata": {},
   "outputs": [],
   "source": [
    "# test image class\n",
    "scrimage = image()\n",
    "nx = scrimage.width\n",
    "ny = scrimage.height\n",
    "# load up a gradient\n",
    "scrimage[1,0] = (12,55,38)"
   ]
  },
  {
   "cell_type": "code",
   "execution_count": 39,
   "metadata": {},
   "outputs": [
    {
     "output_type": "stream",
     "name": "stdout",
     "text": [
      "length of input tuple 2\nNone\nyes\n99, 97, -1\n(slice(0, 2, None), slice(0, 2, None))\n(slice(99, 97, -1), slice(0, 2, None))\n[[[ 0  0  0]\n  [ 0  0  0]]\n\n [[12 55 38]\n  [ 0  0  0]]]\n"
     ]
    }
   ],
   "source": [
    "print(scrimage[0:2,0:2])"
   ]
  },
  {
   "cell_type": "code",
   "execution_count": null,
   "metadata": {},
   "outputs": [],
   "source": []
  }
 ],
 "metadata": {
  "kernelspec": {
   "display_name": "Python 3",
   "language": "python",
   "name": "python3"
  },
  "language_info": {
   "codemirror_mode": {
    "name": "ipython",
    "version": 3
   },
   "file_extension": ".py",
   "mimetype": "text/x-python",
   "name": "python",
   "nbconvert_exporter": "python",
   "pygments_lexer": "ipython3",
   "version": "3.7.3-final"
  }
 },
 "nbformat": 4,
 "nbformat_minor": 4
}