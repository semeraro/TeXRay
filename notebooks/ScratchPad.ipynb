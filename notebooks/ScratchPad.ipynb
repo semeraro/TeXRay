{
 "metadata": {
  "language_info": {
   "codemirror_mode": {
    "name": "ipython",
    "version": 3
   },
   "file_extension": ".py",
   "mimetype": "text/x-python",
   "name": "python",
   "nbconvert_exporter": "python",
   "pygments_lexer": "ipython3",
   "version": "3.7.3-final"
  },
  "orig_nbformat": 2,
  "kernelspec": {
   "name": "python3",
   "display_name": "Python 3"
  }
 },
 "nbformat": 4,
 "nbformat_minor": 2,
 "cells": [
  {
   "source": [
    "# Ray Tracing"
   ],
   "cell_type": "markdown",
   "metadata": {}
  },
  {
   "cell_type": "code",
   "execution_count": 5,
   "metadata": {},
   "outputs": [
    {
     "output_type": "stream",
     "name": "stdout",
     "text": [
      "['C:\\\\Users\\\\Dave Semeraro\\\\AppData\\\\Local\\\\Programs\\\\Microsoft VS Code', 'c:\\\\Users\\\\Dave Semeraro\\\\.vscode\\\\extensions\\\\ms-toolsai.jupyter-2020.11.392013122\\\\pythonFiles', 'c:\\\\Users\\\\Dave Semeraro\\\\.vscode\\\\extensions\\\\ms-toolsai.jupyter-2020.11.392013122\\\\pythonFiles\\\\lib\\\\python', 'C:\\\\ProgramData\\\\Anaconda3\\\\python37.zip', 'C:\\\\ProgramData\\\\Anaconda3\\\\DLLs', 'C:\\\\ProgramData\\\\Anaconda3\\\\lib', 'C:\\\\ProgramData\\\\Anaconda3', '', 'C:\\\\ProgramData\\\\Anaconda3\\\\lib\\\\site-packages', 'C:\\\\ProgramData\\\\Anaconda3\\\\lib\\\\site-packages\\\\win32', 'C:\\\\ProgramData\\\\Anaconda3\\\\lib\\\\site-packages\\\\win32\\\\lib', 'C:\\\\ProgramData\\\\Anaconda3\\\\lib\\\\site-packages\\\\Pythonwin', 'C:\\\\ProgramData\\\\Anaconda3\\\\lib\\\\site-packages\\\\IPython\\\\extensions', 'C:\\\\Users\\\\Dave Semeraro\\\\.ipython']\n"
     ]
    }
   ],
   "source": [
    "import os,sys\n",
    "print(sys.path)"
   ]
  },
  {
   "cell_type": "code",
   "execution_count": 7,
   "metadata": {},
   "outputs": [
    {
     "output_type": "stream",
     "name": "stdout",
     "text": [
      "C:\\Users\\Dave Semeraro\n"
     ]
    }
   ],
   "source": [
    "print(os.path.expanduser('~'))"
   ]
  },
  {
   "cell_type": "code",
   "execution_count": 8,
   "metadata": {},
   "outputs": [
    {
     "output_type": "stream",
     "name": "stdout",
     "text": [
      "c:\\Users\\Dave Semeraro\\.vscode\\extensions\\ms-toolsai.jupyter-2020.11.392013122\\pythonFiles;c:\\Users\\Dave Semeraro\\.vscode\\extensions\\ms-toolsai.jupyter-2020.11.392013122\\pythonFiles\\lib\\python\n"
     ]
    }
   ],
   "source": [
    "print(os.getenv(\"PYTHONPATH\"))"
   ]
  },
  {
   "cell_type": "code",
   "execution_count": 15,
   "metadata": {},
   "outputs": [
    {
     "output_type": "stream",
     "name": "stdout",
     "text": [
      "[1. 1. 1.]\n1.7320508075688772\n[0.57735027 0.57735027 1.        ]\n"
     ]
    }
   ],
   "source": [
    "import numpy as np \n",
    "import math\n",
    "A = np.array([1.0,1.0,1.0])\n",
    "print(A)\n",
    "len = math.sqrt(A[0]**2+A[1]**2+A[2]**2)\n",
    "print(len)\n",
    "A[0:2] = A[0:2]/len \n",
    "print(A)"
   ]
  },
  {
   "cell_type": "code",
   "execution_count": null,
   "metadata": {},
   "outputs": [],
   "source": []
  }
 ]
}