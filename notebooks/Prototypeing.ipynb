{
 "metadata": {
  "language_info": {
   "codemirror_mode": {
    "name": "ipython",
    "version": 3
   },
   "file_extension": ".py",
   "mimetype": "text/x-python",
   "name": "python",
   "nbconvert_exporter": "python",
   "pygments_lexer": "ipython3",
   "version": "3.7.3-final"
  },
  "orig_nbformat": 2,
  "kernelspec": {
   "name": "python3",
   "display_name": "Python 3",
   "language": "python"
  }
 },
 "nbformat": 4,
 "nbformat_minor": 2,
 "cells": [
  {
   "source": [
    "# Application Prototyping\n",
    "Use this notebook to test the components of the TeXRay module. "
   ],
   "cell_type": "markdown",
   "metadata": {}
  },
  {
   "cell_type": "code",
   "execution_count": 18,
   "metadata": {},
   "outputs": [],
   "source": [
    "# import the ray class\n",
    "sys.path.append(\"c:\\\\Users\\\\Dave Semeraro\\\\Documents\\\\TeXRay\")\n",
    "from txr.render import rays, image\n",
    "import matplotlib.pyplot as plt\n",
    "from PIL import Image\n",
    "%matplotlib inline\n",
    "import numpy as np  "
   ]
  },
  {
   "source": [
    "## image module tests. \n",
    "Test the image module bits below. "
   ],
   "cell_type": "markdown",
   "metadata": {}
  },
  {
   "cell_type": "code",
   "execution_count": null,
   "metadata": {},
   "outputs": [],
   "source": [
    "# instantiate an image object\n",
    "tricolore = image.image(height = 300, width = 200)\n",
    "height = tricolore.height\n",
    "width = tricolore.width\n",
    "print(f'Image height: {tricolore.height} Image width: {tricolore.width} ')\n",
    "# load the italian flag. Drape vertically green on top\n",
    "red = (255,0,0)\n",
    "white = (255,255,255)\n",
    "green = (0,255,0)\n",
    "for row in range(height):\n",
    "    for col in range(width):\n",
    "        if row < height/3:\n",
    "            tricolore[row,col] = red\n",
    "        elif row < 2*height/3:\n",
    "            tricolore[row,col] = white\n",
    "        else:\n",
    "            tricolore[row,col] = green"
   ]
  },
  {
   "cell_type": "code",
   "execution_count": null,
   "metadata": {},
   "outputs": [],
   "source": [
    "# display the tricolore\n",
    "plt.imshow(Image.fromarray(tricolore[:,:]))"
   ]
  },
  {
   "source": [
    "## Ray module tests\n",
    "Ray module tests go here. \n",
    "### Ray generator and ray group\n",
    "The ray generator expects origin and direction data in a format that can be parsed for three tuples. Try a list of tuples first."
   ],
   "cell_type": "markdown",
   "metadata": {}
  },
  {
   "cell_type": "code",
   "execution_count": null,
   "metadata": {},
   "outputs": [],
   "source": [
    "# test the raygenerator base class\n",
    "# going to need a couple of origins and directions. \n",
    "origins = [(0.,0.,0.),(0.1,0.,0.,)]\n",
    "directions = [(1.,1.,0.),(1.,0.,1.)]\n",
    "# base ray generator\n",
    "raygen = rays.ray_generator(origins,directions)\n",
    "# use the ray generator to make rays\n",
    "raygen.generate()\n",
    "# get the ray group container from the generator\n",
    "rayGroup = raygen.ray_group\n",
    "# show the contents of the ray group"
   ]
  },
  {
   "cell_type": "code",
   "execution_count": null,
   "metadata": {},
   "outputs": [],
   "source": [
    "# dump the ray data\n",
    "rayGroup.rays"
   ]
  },
  {
   "source": [
    "The results of the cell above should be an array with two rows corresponding to the two origins and directions. \n",
    "\n",
    "Now try single origin in a list. "
   ],
   "cell_type": "markdown",
   "metadata": {}
  },
  {
   "cell_type": "code",
   "execution_count": null,
   "metadata": {},
   "outputs": [],
   "source": [
    "origin = [(5.,8.,2)]\n",
    "raygen = rays.ray_generator(origin,directions)\n",
    "raygen.generate()\n",
    "rayGroup = raygen.ray_group\n",
    "rayGroup.rays"
   ]
  },
  {
   "source": [
    "The output of the cell above should be two rays with the same origin and different directions. \n",
    "#### Numpy arrays\n",
    "Now let's try using numpy arrays to hold the origin and direction data. First try passing arrays with shape 2,3. Two rows of three elements each. "
   ],
   "cell_type": "markdown",
   "metadata": {}
  },
  {
   "cell_type": "code",
   "execution_count": null,
   "metadata": {},
   "outputs": [],
   "source": [
    "origins = np.array([[0.,0.,0.],[5.0,8.0,2.0]])\n",
    "directions = np.array([[1.0,1.0,0.0],[1.0,0.0,1.0]])\n",
    "raygen = rays.ray_generator(origins,directions)\n",
    "raygen.generate()\n",
    "rayGroup = raygen.ray_group\n",
    "rayGroup.rays"
   ]
  },
  {
   "source": [
    "Now lets try an array of tuples"
   ],
   "cell_type": "markdown",
   "metadata": {}
  },
  {
   "cell_type": "code",
   "execution_count": null,
   "metadata": {},
   "outputs": [],
   "source": [
    "origins = np.array([(0.,1.,0.),(5.0,8.0,2.0)])\n",
    "directions = np.array([(1.0,1.0,0.0),(1.0,0.0,1.0)])\n",
    "raygen = rays.ray_generator(origins,directions)\n",
    "raygen.generate()\n",
    "rayGroup = raygen.ray_group\n",
    "rayGroup.rays"
   ]
  },
  {
   "source": [
    "How about a tuple of tuples\n"
   ],
   "cell_type": "markdown",
   "metadata": {}
  },
  {
   "cell_type": "code",
   "execution_count": 19,
   "metadata": {},
   "outputs": [
    {
     "output_type": "execute_result",
     "data": {
      "text/plain": [
       "array([[0.0000000e+00, 1.0000000e+00, 0.0000000e+00, 1.0000000e+00,\n",
       "        1.0000000e+00, 0.0000000e+00, 1.1754944e-38, 3.4028235e+38,\n",
       "        1.1754944e-38, 0.0000000e+00, 0.0000000e+00, 0.0000000e+00],\n",
       "       [5.0000000e+00, 8.0000000e+00, 2.0000000e+00, 1.0000000e+00,\n",
       "        0.0000000e+00, 1.0000000e+00, 1.1754944e-38, 3.4028235e+38,\n",
       "        1.1754944e-38, 0.0000000e+00, 0.0000000e+00, 0.0000000e+00]],\n",
       "      dtype=float32)"
      ]
     },
     "metadata": {},
     "execution_count": 19
    }
   ],
   "source": [
    "origins = ((0.,1.,0.),(5.0,8.0,2.0))\n",
    "directions = ((1.0,1.0,0.0),(1.0,0.0,1.0))\n",
    "raygen = rays.ray_generator(origins,directions)\n",
    "raygen.generate()\n",
    "rayGroup = raygen.ray_group\n",
    "rayGroup.rays"
   ]
  },
  {
   "source": [
    "Now multiple origin and single directions"
   ],
   "cell_type": "markdown",
   "metadata": {}
  },
  {
   "cell_type": "code",
   "execution_count": null,
   "metadata": {},
   "outputs": [],
   "source": [
    "origins = np.array([(0.,0.,0.),(0.,1.,0.)])\n",
    "directions = np.array([(1.0,1.0,0.0)])\n",
    "raygen = rays.ray_generator(origins,directions)\n",
    "raygen.generate()\n",
    "rayGroup = raygen.ray_group\n",
    "rayGroup.rays"
   ]
  },
  {
   "source": [
    "Looks like ray generation is going well. Lets see about pulling a single ray from the set. "
   ],
   "cell_type": "markdown",
   "metadata": {}
  },
  {
   "cell_type": "code",
   "execution_count": null,
   "metadata": {},
   "outputs": [],
   "source": [
    "raydata = rayGroup[0]\n",
    "raydata"
   ]
  },
  {
   "cell_type": "code",
   "execution_count": null,
   "metadata": {},
   "outputs": [],
   "source": [
    "raydata = rayGroup[0:2,0:6]\n",
    "raydata"
   ]
  },
  {
   "cell_type": "code",
   "execution_count": null,
   "metadata": {},
   "outputs": [],
   "source": [
    "origin = rayGroup[0,0:3]\n",
    "direction = rayGroup[0,3:6]\n",
    "print(f'{origin} {direction}')"
   ]
  },
  {
   "source": [
    "Lets see what happens to the data in raygroup when we build a ray from the raydata row, and change the value of the payload of that ray."
   ],
   "cell_type": "markdown",
   "metadata": {}
  },
  {
   "cell_type": "code",
   "execution_count": 21,
   "metadata": {},
   "outputs": [
    {
     "output_type": "stream",
     "name": "stdout",
     "text": [
      "original raygroup data\n[[0.0000000e+00 1.0000000e+00 0.0000000e+00 1.0000000e+00 1.0000000e+00\n  0.0000000e+00 1.1754944e-38 3.4028235e+38 1.1754944e-38 4.0000000e+00\n  5.0000000e+00 6.0000000e+01]\n [5.0000000e+00 8.0000000e+00 2.0000000e+00 1.0000000e+00 0.0000000e+00\n  1.0000000e+00 1.1754944e-38 3.4028235e+38 1.1754944e-38 0.0000000e+00\n  0.0000000e+00 0.0000000e+00]]\ndata in raygroup row 0 [0.0000000e+00 1.0000000e+00 0.0000000e+00 1.0000000e+00 1.0000000e+00\n 0.0000000e+00 1.1754944e-38 3.4028235e+38 1.1754944e-38 4.0000000e+00\n 5.0000000e+00 6.0000000e+01]\ndata in new ray after payload set [0.00000000e+00 1.00000000e+00 0.00000000e+00 1.00000000e+00\n 1.00000000e+00 0.00000000e+00 1.17549435e-38 3.40282347e+38\n 1.17549435e-38 4.00000000e+00 5.00000000e+00 6.00000000e+01]\ndata in raydata before r overwrites it [0.0000000e+00 1.0000000e+00 0.0000000e+00 1.0000000e+00 1.0000000e+00\n 0.0000000e+00 1.1754944e-38 3.4028235e+38 1.1754944e-38 4.0000000e+00\n 5.0000000e+00 6.0000000e+01]\ndata in raydata after ray overwrites it [0.00000000e+00 1.00000000e+00 0.00000000e+00 1.00000000e+00\n 1.00000000e+00 0.00000000e+00 1.17549435e-38 3.40282347e+38\n 1.17549435e-38 4.00000000e+00 5.00000000e+00 6.00000000e+01]\ndata in the raygroup after ray overwrites raydata\n[[0.0000000e+00 1.0000000e+00 0.0000000e+00 1.0000000e+00 1.0000000e+00\n  0.0000000e+00 1.1754944e-38 3.4028235e+38 1.1754944e-38 4.0000000e+00\n  5.0000000e+00 6.0000000e+01]\n [5.0000000e+00 8.0000000e+00 2.0000000e+00 1.0000000e+00 0.0000000e+00\n  1.0000000e+00 1.1754944e-38 3.4028235e+38 1.1754944e-38 0.0000000e+00\n  0.0000000e+00 0.0000000e+00]]\ndata in the raygroup after ray overwrites rayGroup[0]\n[[0.0000000e+00 1.0000000e+00 0.0000000e+00 1.0000000e+00 1.0000000e+00\n  0.0000000e+00 1.1754944e-38 3.4028235e+38 1.1754944e-38 4.0000000e+00\n  5.0000000e+00 6.0000000e+01]\n [5.0000000e+00 8.0000000e+00 2.0000000e+00 1.0000000e+00 0.0000000e+00\n  1.0000000e+00 1.1754944e-38 3.4028235e+38 1.1754944e-38 0.0000000e+00\n  0.0000000e+00 0.0000000e+00]]\n"
     ]
    }
   ],
   "source": [
    "print(f'original raygroup data')\n",
    "print(rayGroup[:])\n",
    "# grab the first ray\n",
    "raydata = rayGroup[0]\n",
    "# get the data needed to generate a ray\n",
    "origin = raydata[0:3]\n",
    "direction = raydata[3:6]\n",
    "t = raydata[8]\n",
    "# make a new ray object\n",
    "r = rays.ray(origin,direction,t)\n",
    "# set the payload in the new ray to be the payload from the original\n",
    "r.payload = raydata[9:12]\n",
    "print(f'data in raygroup row 0 {raydata}')\n",
    "r.payload = (4,5,60)\n",
    "print(f'data in new ray after payload set {r.raydata}')\n",
    "# write the payload back to the data in raygroup\n",
    "print(f'data in raydata before r overwrites it {raydata}')\n",
    "raydata = r.raydata\n",
    "print(f'data in raydata after ray overwrites it {raydata}')\n",
    "print(f'data in the raygroup after ray overwrites raydata')\n",
    "print(rayGroup[:])\n",
    "rayGroup[0] = r.raydata\n",
    "print(f'data in the raygroup after ray overwrites rayGroup[0]')\n",
    "print(rayGroup[:])"
   ]
  },
  {
   "cell_type": "code",
   "execution_count": 23,
   "metadata": {},
   "outputs": [
    {
     "output_type": "execute_result",
     "data": {
      "text/plain": [
       "(2, 3)"
      ]
     },
     "metadata": {},
     "execution_count": 23
    }
   ],
   "source": [
    "rayGroup[0:2,9:12].shape"
   ]
  },
  {
   "cell_type": "code",
   "execution_count": null,
   "metadata": {},
   "outputs": [],
   "source": []
  }
 ]
}