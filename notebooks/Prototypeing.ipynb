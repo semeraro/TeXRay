{
 "metadata": {
  "language_info": {
   "codemirror_mode": {
    "name": "ipython",
    "version": 3
   },
   "file_extension": ".py",
   "mimetype": "text/x-python",
   "name": "python",
   "nbconvert_exporter": "python",
   "pygments_lexer": "ipython3",
   "version": "3.7.3-final"
  },
  "orig_nbformat": 2,
  "kernelspec": {
   "name": "python3",
   "display_name": "Python 3"
  }
 },
 "nbformat": 4,
 "nbformat_minor": 2,
 "cells": [
  {
   "source": [
    "# Prototypes"
   ],
   "cell_type": "markdown",
   "metadata": {}
  },
  {
   "cell_type": "code",
   "execution_count": 2,
   "metadata": {},
   "outputs": [],
   "source": [
    "# Prototype ray generator function that generates a list of rays\n",
    "# import the ray class\n",
    "sys.path.append(\"c:\\\\Users\\\\Dave Semeraro\\\\Documents\\\\TeXRay\")\n",
    "from txr.render import rays"
   ]
  },
  {
   "source": [
    "## Rays\n"
   ],
   "cell_type": "markdown",
   "metadata": {}
  }
 ]
}