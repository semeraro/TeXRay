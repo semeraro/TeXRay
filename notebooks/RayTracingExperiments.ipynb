{
 "metadata": {
  "language_info": {
   "codemirror_mode": {
    "name": "ipython",
    "version": 3
   },
   "file_extension": ".py",
   "mimetype": "text/x-python",
   "name": "python",
   "nbconvert_exporter": "python",
   "pygments_lexer": "ipython3",
   "version": "3.7.3-final"
  },
  "orig_nbformat": 2,
  "kernelspec": {
   "name": "python_defaultSpec_1597953175878",
   "display_name": "Python 3.7.3 64-bit ('base': conda)"
  }
 },
 "nbformat": 4,
 "nbformat_minor": 2,
 "cells": [
  {
   "cell_type": "markdown",
   "metadata": {},
   "source": [
    "# Ray Tracing Experiments\n",
    "Notebook full of ray tracing experiments in python. Using numpy as a basic datastructure, experiment with basic techniques for ray tracing images. Play with data structures, multiprocessing, ray intersection algorithms, shading, anything goes. \n",
    "## Images\n",
    "We are going to need an image. An image is a rectangular array of triples (RGB) values. The PythonImageTest notebook contains experiments with images in python and how to store and display them. In that notebook it was determined that we can store RGB values in numpy arrays and manipulate them using the PIL library if we want to and/or display them using matplotlib. The thing to remember about images is that the pixel order is top to bottom and left to right. The pixels are arranged in row order, just like a c array. Images have the origin in the top left corner. Pixel (0,0) is at the top left. By convention screen coordinate origin is at the lower left. This is flipped vertically from image order. You have to keep an eye on this order (get it,,, eye) or your images will be upside down. All of this is handled in the logic of the renderer and the camera and image objects. \n"
   ]
  },
  {
   "cell_type": "code",
   "execution_count": 1,
   "metadata": {},
   "outputs": [],
   "source": [
    "#imports and stuff\n",
    "import numpy as np\n",
    "import sys"
   ]
  },
  {
   "cell_type": "code",
   "execution_count": 13,
   "metadata": {
    "tags": []
   },
   "outputs": [
    {
     "output_type": "stream",
     "name": "stdout",
     "text": "Our empty image has shape (100, 200, 3)\n"
    }
   ],
   "source": [
    "# now lets make an image object from a numpy array. \n",
    "# we are going to need an array that can hold an image ny high by nx wide. Each position\n",
    "# in the image will contain an RGB value. Something like this should do..\n",
    "nx = 200\n",
    "ny = 100\n",
    "image = np.zeros((ny,nx,3),dtype=np.uint8)\n",
    "print(f'Our empty image has shape {image.shape}')"
   ]
  },
  {
   "cell_type": "markdown",
   "metadata": {},
   "source": [
    "Now we have an empty image with 100 rows and 200 columns of pixels. Remember that whatever we load into this image\n",
    "will display with the first row in storage at the top of the image. That is image\\[0,:nx,0:2\\] will display at the top. "
   ]
  },
  {
   "cell_type": "code",
   "execution_count": 2,
   "metadata": {},
   "outputs": [],
   "source": [
    "# allow the notebook to use code we have in this folder\n",
    "sys.path.append(\"c:\\\\Users\\\\Dave Semeraro\\\\Documents\\\\TeXRay\")"
   ]
  },
  {
   "cell_type": "code",
   "execution_count": 7,
   "metadata": {},
   "outputs": [],
   "source": [
    "# now we can import the txr packag\n",
    "from txr.render import rays\n"
   ]
  },
  {
   "cell_type": "code",
   "execution_count": 10,
   "metadata": {
    "tags": []
   },
   "outputs": [
    {
     "output_type": "stream",
     "name": "stdout",
     "text": "origin:[0. 0. 0.]\ndirection:[1. 1. 1.]\n"
    }
   ],
   "source": [
    "# Lets Start with a Ray. Use the txr package\n",
    "origin = np.array([0.,0.,0.])\n",
    "direction = np.array([1.0,1.0,1.0])\n",
    "testray = rays.ray(origin,direction)\n",
    "print(f'origin:{testray.origin}\\ndirection:{testray.direction}')\n"
   ]
  },
  {
   "cell_type": "markdown",
   "metadata": {},
   "source": [
    "## Preliminaries. \n",
    "Well we accessed our ray class from the txr package. It has an origin and direction and an (invisible)payload. Now lets use this ray thingy to make a "
   ]
  },
  {
   "cell_type": "code",
   "execution_count": null,
   "metadata": {},
   "outputs": [],
   "source": []
  }
 ]
}