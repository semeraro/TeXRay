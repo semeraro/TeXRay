{
 "metadata": {
  "language_info": {
   "codemirror_mode": {
    "name": "ipython",
    "version": 3
   },
   "file_extension": ".py",
   "mimetype": "text/x-python",
   "name": "python",
   "nbconvert_exporter": "python",
   "pygments_lexer": "ipython3",
   "version": "3.7.3-final"
  },
  "orig_nbformat": 2,
  "kernelspec": {
   "name": "python3",
   "display_name": "Python 3",
   "language": "python"
  }
 },
 "nbformat": 4,
 "nbformat_minor": 2,
 "cells": [
  {
   "source": [
    "# object ray intersection classes"
   ],
   "cell_type": "markdown",
   "metadata": {}
  },
  {
   "cell_type": "code",
   "execution_count": 1,
   "metadata": {},
   "outputs": [],
   "source": [
    "# setup stuff\n",
    "import sys\n",
    "sys.path.append(\"c:\\\\Users\\\\Dave_Semeraro\\\\Documents\\\\TeXRay\")\n",
    "from txr.render import rays, image\n",
    "import matplotlib.pyplot as plt \n",
    "from PIL import Image\n",
    "%matplotlib inline\n",
    "import numpy as np"
   ]
  },
  {
   "source": [
    "# interacting with data\n",
    "We need a class that can handle interaction between rays and data. Lets call this class Target. A target will accept a group of rays and \"interact\" the rays with the data in the target. The sort of interaction is undefined at present. \n",
    "\n",
    "At this point Im not certain how to do this. The form of the data is ambiguous. It could for example be particle data or scalar data on some sort of mesh. The method to apply to the data is also undefined it could be a sampling or intersection operation. Finally the returned value structure is unknown. So we know nothing. \n",
    "\n",
    "Would it be clever to define a class and then derive subclasses from it or decorate the class instead. "
   ],
   "cell_type": "markdown",
   "metadata": {}
  },
  {
   "cell_type": "code",
   "execution_count": 2,
   "metadata": {},
   "outputs": [],
   "source": [
    "class target:\n",
    "    \"\"\" \n",
    "    A target is a wrapper around data that will interact\n",
    "    rays with the data in a specified way. \n",
    "\n",
    "    \"\"\"\n",
    "    def __init__(self,data):\n",
    "        # keep the data handle as we may use this \n",
    "        # target again with other rays \n",
    "        self._data = data\n",
    "        self._method = None \n",
    "        self._rayGroup = None\n",
    "\n",
    "    @property\n",
    "    def method(self):\n",
    "        return self._method\n",
    "\n",
    "    @method.setter\n",
    "    def method(self,value):\n",
    "        self._method = value\n",
    "\n",
    "    @property\n",
    "    def rayGroup(self):\n",
    "        return self._rayGroup\n",
    "\n",
    "    @rayGroup.setter\n",
    "    def rayGroup(self,value):\n",
    "        self._rayGroup = value\n",
    "\n",
    "    def apply_method_to_data(self):\n",
    "        assert(self._method is not None)\n",
    "        assert(self._rayGroup is not None)\n",
    "        return(self._method(self._data,self._rayGroup))"
   ]
  },
  {
   "cell_type": "code",
   "execution_count": 3,
   "metadata": {},
   "outputs": [],
   "source": [
    "class sphere:\n",
    "\n",
    "    def __init__(self,center,radius):\n",
    "        self._radius = radius\n",
    "        self._center = center[:]\n",
    "\n",
    "    @property\n",
    "    def radius(self):\n",
    "        return self._radius\n",
    "\n",
    "    @property \n",
    "    def center(self):\n",
    "        return self._center\n",
    "\n",
    "def hit_sphere(sphere,rayGroup):\n",
    "    raygrouparray = rayGroup.rays\n",
    "    rows = raygrouparray.shape[0]\n",
    "    for r in range(rows):\n",
    "        origin = raygrouparray[r,0:3]\n",
    "        direction = raygrouparray[r,3:6]\n",
    "        oc = origin - sphere.center\n",
    "        a = np.dot(direction,direction)\n",
    "        b = 2.0*np.dot(oc,direction)\n",
    "        c = np.dot(oc,oc) - sphere.radius*sphere.radius \n",
    "        disc = b*b -4.0*a*c\n",
    "        if disc > 0:\n",
    "            raygrouparray[r,9:12] = (255,0,0)\n",
    "        else:\n",
    "            raygrouparray[r,9:12] = (0,0,255)"
   ]
  },
  {
   "cell_type": "code",
   "execution_count": 7,
   "metadata": {},
   "outputs": [],
   "source": [
    "# lets create a target with the data being the sphere\n",
    "# sphere first\n",
    "center = np.array((0.,0.,-1.))\n",
    "rad = 0.5\n",
    "marble = sphere(center,rad)\n",
    "bullseye = target(marble)\n",
    "bullseye.method = hit_sphere\n",
    "# now we need a ray or two. \n",
    "# one ray for now. \n",
    "origin = [np.array((0.0,0.0,0.0),dtype=np.float)]\n",
    "direction = [np.array((0.,0.,-1.),dtype=np.float)]\n",
    "# rg contains the ray group\n",
    "rgen = rays.ray_generator(origin,direction)\n",
    "rgen.generate()\n",
    "rg = rgen.ray_group\n",
    "# now lets assign the raygroup to the target\n",
    "bullseye.rayGroup = rg\n"
   ]
  },
  {
   "cell_type": "code",
   "execution_count": 8,
   "metadata": {},
   "outputs": [
    {
     "output_type": "stream",
     "name": "stdout",
     "text": [
      "[[ 0.0000000e+00  0.0000000e+00  0.0000000e+00  0.0000000e+00\n   0.0000000e+00 -1.0000000e+00  1.1754944e-38  3.4028235e+38\n   1.1754944e-38  0.0000000e+00  0.0000000e+00  0.0000000e+00]]\n"
     ]
    }
   ],
   "source": [
    "# now I have a target and stuff lets fire it off. \n",
    "print(rg[:])"
   ]
  },
  {
   "cell_type": "code",
   "execution_count": 9,
   "metadata": {},
   "outputs": [
    {
     "output_type": "stream",
     "name": "stdout",
     "text": [
      "[[ 0.0000000e+00  0.0000000e+00  0.0000000e+00  0.0000000e+00\n   0.0000000e+00 -1.0000000e+00  1.1754944e-38  3.4028235e+38\n   1.1754944e-38  2.5500000e+02  0.0000000e+00  0.0000000e+00]]\n"
     ]
    }
   ],
   "source": [
    "bullseye.apply_method_to_data()\n",
    "print(rg[:])"
   ]
  },
  {
   "source": [
    "The exercise above seems to have worked for the simple case of the single ray hitting the sphere. The target method modifies the data in the ray group's data matrix and the change in the payload persists. This model seems to work. "
   ],
   "cell_type": "markdown",
   "metadata": {}
  },
  {
   "cell_type": "code",
   "execution_count": null,
   "metadata": {},
   "outputs": [],
   "source": []
  }
 ]
}